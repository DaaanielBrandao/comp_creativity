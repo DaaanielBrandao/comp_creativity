{
 "cells": [
  {
   "cell_type": "code",
   "execution_count": 3,
   "metadata": {},
   "outputs": [],
   "source": [
    "import cv2\n",
    "import numpy as np\n",
    "import matplotlib.pyplot as plt"
   ]
  },
  {
   "cell_type": "code",
   "execution_count": 53,
   "metadata": {},
   "outputs": [],
   "source": [
    "house_plan_example = [\n",
    "    {\n",
    "        'type': 'kitchen',\n",
    "        'center': (50,50),\n",
    "        'width': 30,\n",
    "        'height':20\n",
    "    },\n",
    "    {\n",
    "        'type': 'bedroom',\n",
    "        'center': (40,30),\n",
    "        'width': 20,\n",
    "        'height':20\n",
    "    },\n",
    "    {\n",
    "        'type': 'living_room',\n",
    "        'center': (60,25),\n",
    "        'width': 20,\n",
    "        'height':30\n",
    "    },\n",
    "]"
   ]
  },
  {
   "cell_type": "code",
   "execution_count": 48,
   "metadata": {},
   "outputs": [],
   "source": [
    "division_colors = {\n",
    "    'kitchen': (255,0,0),\n",
    "    'bedroom': (0,255,0),\n",
    "    'living_room': (0,0,255),\n",
    "}"
   ]
  },
  {
   "cell_type": "code",
   "execution_count": 55,
   "metadata": {},
   "outputs": [],
   "source": [
    "def draw_division(img, division):\n",
    "    top_left = (int((division['center'][0] - division['width']/2)*10),int((division['center'][1] - division['height']/2)*10))\n",
    "    bottom_right = (int((division['center'][0] + division['width']/2)*10),int((division['center'][1] + division['height']/2)*10))\n",
    "    #print(top_left,bottom_right)\n",
    "    cv2.rectangle(img, top_left, bottom_right, color=division_colors[division['type']], thickness=5)"
   ]
  },
  {
   "cell_type": "code",
   "execution_count": 49,
   "metadata": {},
   "outputs": [],
   "source": [
    "def draw_house(house_plan):\n",
    "    img = np.zeros((1000,1000,3), np.uint8)\n",
    "    for division in house_plan:\n",
    "        draw_division(img,division)\n",
    "    plt.imshow(img)"
   ]
  },
  {
   "cell_type": "code",
   "execution_count": 54,
   "metadata": {},
   "outputs": [
    {
     "name": "stdout",
     "output_type": "stream",
     "text": [
      "(350, 400) (650, 600)\n",
      "(300, 200) (500, 400)\n",
      "(500, 100) (700, 400)\n"
     ]
    },
    {
     "data": {
      "image/png": "[encoded data removed]",
      "text/plain": [
       "<Figure size 432x288 with 1 Axes>"
      ]
     },
     "metadata": {
      "needs_background": "light"
     },
     "output_type": "display_data"
    }
   ],
   "source": [
    "draw_house(house_plan_example)"
   ]
  },
  {
   "cell_type": "code",
   "execution_count": null,
   "metadata": {},
   "outputs": [],
   "source": []
  }
 ],
 "metadata": {
  "interpreter": {
   "hash": "3352614b04f6a771ec3a392566a3763a34cdc96a177f762027aa589f02ec5f67"
  },
  "kernelspec": {
   "display_name": "Python 3.8.2 32-bit",
   "language": "python",
   "name": "python3"
  },
  "language_info": {
   "codemirror_mode": {
    "name": "ipython",
    "version": 3
   },
   "file_extension": ".py",
   "mimetype": "text/x-python",
   "name": "python",
   "nbconvert_exporter": "python",
   "pygments_lexer": "ipython3",
   "version": "3.8.2"
  },
  "orig_nbformat": 4
 },
 "nbformat": 4,
 "nbformat_minor": 2
}
