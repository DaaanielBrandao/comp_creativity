{
 "cells": [
  {
   "cell_type": "code",
   "execution_count": 3,
   "metadata": {},
   "outputs": [],
   "source": [
    "import cv2\n",
    "import numpy as np\n",
    "import matplotlib.pyplot as plt"
   ]
  },
  {
   "cell_type": "code",
   "execution_count": 32,
   "metadata": {},
   "outputs": [],
   "source": [
    "house_plan_example = [\n",
    "    {\n",
    "        'type': 'kitchen',\n",
    "        'center': (50,50),\n",
    "        'width': 30,\n",
    "        'height':20\n",
    "    },\n",
    "    {\n",
    "        'type': 'bedroom',\n",
    "        'center': (0,50),\n",
    "        'width': 10,\n",
    "        'height':20\n",
    "    },\n",
    "    ]"
   ]
  },
  {
   "cell_type": "code",
   "execution_count": 33,
   "metadata": {},
   "outputs": [],
   "source": [
    "def draw_division(img, division):\n",
    "    top_left = (int((division['center'][0] - division['width']/2)*10),int((division['center'][1] - division['height']/2)*10))\n",
    "    bottom_right = (int((division['center'][0] + division['width']/2)*10),int((division['center'][1] + division['height']/2)*10))\n",
    "    print(top_left,bottom_right)\n",
    "    cv2.rectangle(img, top_left, bottom_right, color=(255,0,0), thickness=5)"
   ]
  },
  {
   "cell_type": "code",
   "execution_count": 34,
   "metadata": {},
   "outputs": [
    {
     "name": "stdout",
     "output_type": "stream",
     "text": [
      "(350, 400) (650, 600)\n",
      "(-50, 400) (50, 600)\n"
     ]
    },
    {
     "data": {
      "text/plain": [
       "<matplotlib.image.AxesImage at 0x6841aa8>"
      ]
     },
     "execution_count": 34,
     "metadata": {},
     "output_type": "execute_result"
    },
    {
     "data": {
      "image/png": "[encoded data removed]",
      "text/plain": [
       "<Figure size 432x288 with 1 Axes>"
      ]
     },
     "metadata": {
      "needs_background": "light"
     },
     "output_type": "display_data"
    }
   ],
   "source": [
    "img = np.zeros((1000,1000,3), np.uint8)\n",
    "for division in house_plan:\n",
    "    draw_division(img,division)\n",
    "plt.imshow(img)"
   ]
  },
  {
   "cell_type": "code",
   "execution_count": 21,
   "metadata": {},
   "outputs": [
    {
     "data": {
      "text/plain": [
       "<matplotlib.image.AxesImage at 0xf3018b0>"
      ]
     },
     "execution_count": 21,
     "metadata": {},
     "output_type": "execute_result"
    },
    {
     "data": {
      "image/png": "[encoded data removed]",
      "text/plain": [
       "<Figure size 432x288 with 1 Axes>"
      ]
     },
     "metadata": {
      "needs_background": "light"
     },
     "output_type": "display_data"
    }
   ],
   "source": [
    "img = np.zeros((1000,1000,3), np.uint8)\n",
    "cv2.rectangle(img, pt1=(200,200), pt2=(400,400), color=(255,0,0), thickness=5)\n",
    "cv2.putText(img, 'OpenCV', (300,300), cv2.FONT_HERSHEY_TRIPLEX, 2, color=(255,0,0))\n",
    "plt.imshow(img)\n"
   ]
  },
  {
   "cell_type": "code",
   "execution_count": null,
   "metadata": {},
   "outputs": [],
   "source": []
  }
 ],
 "metadata": {
  "interpreter": {
   "hash": "3352614b04f6a771ec3a392566a3763a34cdc96a177f762027aa589f02ec5f67"
  },
  "kernelspec": {
   "display_name": "Python 3.8.2 32-bit",
   "language": "python",
   "name": "python3"
  },
  "language_info": {
   "codemirror_mode": {
    "name": "ipython",
    "version": 3
   },
   "file_extension": ".py",
   "mimetype": "text/x-python",
   "name": "python",
   "nbconvert_exporter": "python",
   "pygments_lexer": "ipython3",
   "version": "3.8.2"
  },
  "orig_nbformat": 4
 },
 "nbformat": 4,
 "nbformat_minor": 2
}
