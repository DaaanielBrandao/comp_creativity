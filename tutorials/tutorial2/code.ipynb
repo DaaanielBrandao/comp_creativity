{
 "cells": [
  {
   "cell_type": "code",
   "execution_count": 1,
   "metadata": {},
   "outputs": [],
   "source": [
    "from random import choice\n",
    "\n",
    "SUBJECTS = ['COUNT', 'STRANGER', 'LOOK', 'CHURCH', 'CASTLE', 'PICTURE',\n",
    "            'EYE', 'VILLAGE', 'TOWER', 'FARMER', 'WAY', 'GUEST', 'DAY',\n",
    "            'HOUSE', 'TABLE', 'LABOURER']\n",
    "\n",
    "PREDICATES = ['OPEN', 'SILENT', 'STRONG', 'GOOD', 'NARROW', 'NEAR',\n",
    "              'NEW', 'QUIET', 'FAR', 'DEEP', 'LATE', 'DARK', 'FREE',\n",
    "              'LARGE', 'OLD', 'ANGRY']\n",
    "\n",
    "CONJUNCTIONS = [' AND ', ' OR ', ' THEREFORE ', '. ', '. ', '. ', '. ', '. ']\n",
    "\n",
    "OPERATORS = ['A', 'EVERY', 'NO', 'NOT EVERY']\n",
    "\n",
    "def generate_phrase():\n",
    "    text = choice(OPERATORS) + ' ' + choice(SUBJECTS)\n",
    "    if text == 'A EYE':\n",
    "        text = 'AN EYE'\n",
    "    return text + ' IS '\n",
    "\n",
    "def generate_poem():\n",
    "    print(\"\\n\" + generate_phrase() + choice(PREDICATES) + choice(CONJUNCTIONS) +\n",
    "        generate_phrase() + choice(PREDICATES) + '.\\n')"
   ]
  },
  {
   "cell_type": "code",
   "execution_count": 4,
   "metadata": {},
   "outputs": [
    {
     "name": "stdout",
     "output_type": "stream",
     "text": [
      "\n",
      "AN EYE IS DARK. NO GUEST IS OLD.\n",
      "\n"
     ]
    }
   ],
   "source": [
    "generate_poem()"
   ]
  },
  {
   "cell_type": "code",
   "execution_count": 8,
   "metadata": {},
   "outputs": [
    {
     "name": "stdout",
     "output_type": "stream",
     "text": [
      "\n",
      "A HOUSE OF STONE\n",
      "      IN DENSE WOODS\n",
      "            USING NATURAL LIGHT\n",
      "                  INHABITED BY PEOPLE SPEAKING MANY LANGUAGES WEARING LITTLE OR NO CLOTHING\n",
      "\n"
     ]
    }
   ],
   "source": [
    "from random import choice\n",
    "\n",
    "material = ['SAND', 'DUST', 'LEAVES', 'PAPER', 'TIN', 'ROOTS', 'BRICK', 'STONE',\n",
    "  'DISCARDED CLOTHING', 'GLASS', 'STEEL', 'PLASTIC', 'MUD', 'BROKEN DISHES',\n",
    "  'WOOD', 'STRAW', 'WEEDS']\n",
    "\n",
    "location = ['IN A GREEN, MOSSY TERRAIN', 'IN AN OVERPOPULATED AREA',\n",
    "  'BY THE SEA', 'BY AN ABANDONED LAKE', 'IN A DESERTED FACTORY',\n",
    "  'IN DENSE WOODS', 'IN JAPAN', 'AMONG SMALL HILLS', 'IN SOUTHERN FRANCE',\n",
    "  'AMONG HIGH MOUNTAINS', 'ON AN ISLAND', 'IN A COLD, WINDY CLIMATE',\n",
    "  'IN A PLACE WITH BOTH HEAVY RAIN AND BRIGHT SUN', 'IN A DESERTED AIRPORT',\n",
    "  'IN A HOT CLIMATE', 'INSIDE A MOUNTAIN', 'ON THE SEA', 'IN MICHIGAN',\n",
    "  'IN HEAVY JUNGLE UNDERGROWTH', 'BY A RIVER', 'AMONG OTHER HOUSES',\n",
    "  'IN A DESERTED CHURCH', 'IN A METROPOLIS', 'UNDERWATER']\n",
    "\n",
    "light_source = ['CANDLES', 'ALL AVAILABLE LIGHTING', 'ELECTRICITY',\n",
    "  'NATURAL LIGHT']\n",
    "\n",
    "inhabitants = ['PEOPLE WHO SLEEP VERY LITTLE', 'VEGETARIANS','HORSES AND BIRDS',\n",
    "  'PEOPLE SPEAKING MANY LANGUAGES WEARING LITTLE OR NO CLOTHING',\n",
    "  'ALL RACES OF MEN REPRESENTED WEARING PREDOMINANTLY RED CLOTHING',\n",
    "  'CHILDREN AND OLD PEOPLE', 'VARIOUS BIRDS AND FISH', 'LOVERS',\n",
    "  'PEOPLE WHO ENJOY EATING TOGETHER', 'PEOPLE WHO EAT A GREAT DEAL',\n",
    "  'COLLECTORS OF ALL TYPES', 'FRIENDS AND ENEMIES',\n",
    "  'PEOPLE WHO SLEEP ALMOST ALL THE TIME', 'VERY TALL PEOPLE',\n",
    "  'AMERICAN INDIANS', 'LITTLE BOYS', 'PEOPLE FROM MANY WALKS OF LIFE',\n",
    "  'NEGROS WEARING ALL COLORS', 'FRIENDS', 'FRENCH AND GERMAN SPEAKING PEOPLE',\n",
    "  'FISHERMEN AND FAMILIES', 'PEOPLE WHO LOVE TO READ']\n",
    "\n",
    "print('')\n",
    "print('A HOUSE OF ' + choice(material))\n",
    "print('      ' + choice(location))\n",
    "print('            USING ' + choice(light_source))\n",
    "print('                  INHABITED BY ' + choice(inhabitants))\n",
    "print('')"
   ]
  }
 ],
 "metadata": {
  "interpreter": {
   "hash": "31f2aee4e71d21fbe5cf8b01ff0e069b9275f58929596ceb00d14d90e3e16cd6"
  },
  "kernelspec": {
   "display_name": "Python 3.9.2 64-bit",
   "name": "python3"
  },
  "language_info": {
   "codemirror_mode": {
    "name": "ipython",
    "version": 3
   },
   "file_extension": ".py",
   "mimetype": "text/x-python",
   "name": "python",
   "nbconvert_exporter": "python",
   "pygments_lexer": "ipython3",
   "version": "3.6.9"
  },
  "orig_nbformat": 4
 },
 "nbformat": 4,
 "nbformat_minor": 2
}
