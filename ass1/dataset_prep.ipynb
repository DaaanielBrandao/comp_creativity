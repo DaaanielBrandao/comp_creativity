{
 "cells": [
  {
   "cell_type": "code",
   "execution_count": 1,
   "metadata": {},
   "outputs": [],
   "source": [
    "import numpy as np\n",
    "import json\n",
    "import inflect\n",
    "import re"
   ]
  },
  {
   "cell_type": "code",
   "execution_count": 2,
   "metadata": {},
   "outputs": [],
   "source": [
    "#import data\n",
    "with open('recipes_raw_nosource_ar.json') as json_file:\n",
    "    data = json.load(json_file)"
   ]
  },
  {
   "cell_type": "markdown",
   "metadata": {},
   "source": [
    "A lot of filtering, cleaning, normalizing and adding additional information to ingredients was used in order to make the dataset optimal for our needs. In the end, each cookie recipe should have a list of ingredients, each containing its name, quantity, measure, and role. Separating the quantity and the measure used will make it easier to compare and add in the generating phases. A role for each ingredient will be also added to later assist with the fitness function and the categorization process (where each cookie recipe will be classified by their crunchiness and spread). The possible roles for each ingredient are:\n",
    "- fat\n",
    "- sugar\n",
    "- flour\n",
    "- binding agent\n",
    "- rising agent\n",
    "- flavor texture - aditional ingredients that are not necessary for the structural integrity of the cookie"
   ]
  },
  {
   "cell_type": "markdown",
   "metadata": {},
   "source": [
    "First, we select only the recipes that have 'Cookie' in the tittle, since we only want cookie recipes"
   ]
  },
  {
   "cell_type": "code",
   "execution_count": 3,
   "metadata": {},
   "outputs": [],
   "source": [
    "#get the cookies\n",
    "new_data = []\n",
    "for value in list(data.values()):\n",
    "    if 'title' in value:\n",
    "        if 'Cookie' in value['title'] or 'cookie' in value['title']:\n",
    "            new_data.append(value)"
   ]
  },
  {
   "cell_type": "markdown",
   "metadata": {},
   "source": [
    " The original dataset contained a lot of non-ingredients in the middle of the ingredient list. These did not include a measure at the start of the string, so all elements in the ingredients list that did not start in a measure were removed. All the elements on the ingredients list also contained the word 'ADVERTISEMENT' at the end, so it was removed."
   ]
  },
  {
   "cell_type": "code",
   "execution_count": 4,
   "metadata": {},
   "outputs": [],
   "source": [
    "# remove non ingrediets\n",
    "# remove advertisement at the end of ingredients\n",
    "for elem in new_data:\n",
    "    for item in elem['ingredients'][:]:\n",
    "        if not item[0].isdigit():\n",
    "            elem['ingredients'].remove(item)\n",
    "    for i, s in enumerate(elem['ingredients']):\n",
    "        elem['ingredients'][i] =  elem['ingredients'][i][:len(elem['ingredients'][i]) - 14]"
   ]
  },
  {
   "cell_type": "markdown",
   "metadata": {},
   "source": [
    "In the middle of each ingredient, there were sometimes many parenthesis that only included additional information or alternative measures. Also after a ',', there it is common to have information about the preparation of the ingredient.  These were deemed unnecessary since they would only make it harder to distinguish between the same ingredient. Since we use the rarity of the ingredient in, for example, the fitness function of a recipe, it is important to not have a lot of noise in the ingredient list.\n",
    "\n",
    "e.g. '1 (8 ounce) package cream cheese, softened'"
   ]
  },
  {
   "cell_type": "code",
   "execution_count": 5,
   "metadata": {},
   "outputs": [],
   "source": [
    "#remove () and things after ,\n",
    "for elem in new_data:\n",
    "    for i, s in enumerate(elem['ingredients']):\n",
    "        elem['ingredients'][i] = re.sub('\\(.*?\\)', '', elem['ingredients'][i])\n",
    "        elem['ingredients'][i] = elem['ingredients'][i].split(\",\", 1)[0]"
   ]
  },
  {
   "cell_type": "code",
   "execution_count": 6,
   "metadata": {},
   "outputs": [],
   "source": [
    "\n",
    "SEPARATOR_RE = re.compile(r'^([\\d\\s*[\\d\\.,/]*)\\s*(.+)')\n",
    "\n",
    "\n",
    "def normalize(st):\n",
    "    \"\"\"\n",
    "\n",
    "    :param st:\n",
    "    :return:\n",
    "    \"\"\"\n",
    "    return re.sub(r'\\s+', ' ', SEPARATOR_RE.sub('\\g<1> \\g<2>', st)).strip()\n",
    "\n",
    "\n",
    "def escape_re_string(text):\n",
    "    \"\"\"\n",
    "\n",
    "    :param text:\n",
    "    :return:\n",
    "    \"\"\"\n",
    "    text = text.replace('.', '\\.')\n",
    "    return re.sub(r'\\s+', ' ', text)"
   ]
  },
  {
   "cell_type": "code",
   "execution_count": 7,
   "metadata": {},
   "outputs": [],
   "source": [
    "\n",
    "\n",
    "import re\n",
    "from itertools import chain\n",
    "\n",
    "\n",
    "UNITS = {\"cup\": [\"cups\", \"cup\", \"c.\", \"c\"], \"fluid_ounce\": [\"fl. oz.\", \"fl oz\", \"fluid ounce\", \"fluid ounces\"],\n",
    "         \"package\": [\"package\",\"packages\"],\"jar\":[\"jar\",\"jars\"], \"box\":[\"box\",\"boxes\"],\n",
    "         \"gallon\": [\"gal\", \"gal.\", \"gallon\", \"gallons\"], \"ounce\": [\"oz\", \"oz.\", \"ounce\", \"ounces\"],\n",
    "         \"pint\": [\"pt\", \"pt.\", \"pint\", \"pints\"], \"pound\": [\"lb\", \"lb.\", \"pound\", \"pounds\"],\n",
    "         \"quart\": [\"qt\", \"qt.\", \"qts\", \"qts.\", \"quart\", \"quarts\"],\n",
    "         \"tablespoon\": [\"tbsp.\", \"tbsp\", \"T\", \"T.\", \"tablespoon\", \"tablespoons\", \"tbs.\", \"tbs\"],\n",
    "         \"teaspoon\": [\"tsp.\", \"tsp\", \"t\", \"t.\", \"teaspoon\", \"teaspoons\"],\n",
    "         \"gram\": [\"g\", \"g.\", \"gr\", \"gr.\", \"gram\", \"grams\"], \"kilogram\": [\"kg\", \"kg.\", \"kilogram\", \"kilograms\"],\n",
    "         \"liter\": [\"l\", \"l.\", \"liter\", \"liters\"], \"milligram\": [\"mg\", \"mg.\", \"milligram\", \"milligrams\"],\n",
    "         \"milliliter\": [\"ml\", \"ml.\", \"milliliter\", \"milliliters\"], \"pinch\": [\"pinch\", \"pinches\"],\n",
    "         \"dash\": [\"dash\", \"dashes\"], \"touch\": [\"touch\", \"touches\"], \"handful\": [\"handful\", \"handfuls\"],\n",
    "         \"stick\": [\"stick\", \"sticks\"], \"clove\": [\"cloves\", \"clove\"], \"can\": [\"cans\", \"can\"],\n",
    "         \"small\": [\"small\"], \"scoop\": [\"scoop\", \"scoops\"], \"filets\": [\"filet\", \"filets\"], \"sprig\": [\"sprigs\", \"sprig\"]}\n",
    "\n",
    "NUMBERS = ['seventeen', 'eighteen', 'thirteen', 'nineteen', 'fourteen', 'sixteen', 'fifteen', 'seventy', 'twelve',\n",
    "           'eleven', 'eighty', 'thirty', 'ninety', 'twenty', 'seven', 'fifty', 'sixty', 'forty', 'three', 'eight',\n",
    "           'four', 'zero', 'five', 'nine', 'ten', 'one', 'six', 'two', 'an', 'a']\n",
    "\n",
    "prepositions = [\"of\"]\n",
    "\n",
    "a = list(chain.from_iterable(UNITS.values()))\n",
    "a.sort(key=lambda x: len(x), reverse=True)\n",
    "a = map(escape_re_string, a)\n",
    "\n",
    "PARSER_RE = re.compile(\n",
    "    r'(?P<quantity>(?:[\\d\\.,][\\d\\.,\\s/]*)?\\s*(?:(?:%s)\\s*)*)?(\\s*(?P<unit>%s)\\s+)?(\\s*(?:%s)\\s+)?(\\s*(?P<name>.+))?' % (\n",
    "        '|'.join(NUMBERS), '|'.join(a), '|'.join(prepositions)))\n",
    "\n",
    "\n",
    "def parse(st):\n",
    "    \"\"\"\n",
    "\n",
    "    :param st:\n",
    "    :return:\n",
    "    \"\"\"\n",
    "    st = normalize(st)\n",
    "    res = PARSER_RE.match(st)\n",
    "\n",
    "    return {\n",
    "        'measure': ((res.group('quantity') or '').strip() + ' ' + (res.group('unit') or '').strip()).lstrip().rstrip(),\n",
    "        'name': (res.group('name') or '').strip()\n",
    "    }\n"
   ]
  },
  {
   "cell_type": "markdown",
   "metadata": {},
   "source": [
    "Seperate the measure and the name of the ingredient. In this phase, the measure and quantity are still in the same parameter"
   ]
  },
  {
   "cell_type": "code",
   "execution_count": 8,
   "metadata": {},
   "outputs": [],
   "source": [
    "#from ingredient_parser.en import parse \n",
    "for elem in new_data:\n",
    "    for i, s in enumerate(elem['ingredients']):\n",
    "        elem['ingredients'][i] =  parse(elem['ingredients'][i])\n",
    "\n",
    "#print(new_data)"
   ]
  },
  {
   "cell_type": "markdown",
   "metadata": {},
   "source": [
    "Make every ingredient name singular, using a library"
   ]
  },
  {
   "cell_type": "code",
   "execution_count": 9,
   "metadata": {},
   "outputs": [],
   "source": [
    "#singularize\n",
    "p = inflect.engine()\n",
    "for elem in new_data:\n",
    "    for i, s in enumerate(elem['ingredients']):\n",
    "        #if (elem['ingredients'][i]['name'] == \"egg yolks\"):\n",
    "        #    print( p.singular_noun(elem['ingredients'][i]['name']))\n",
    "        if p.singular_noun(elem['ingredients'][i]['name']) != False:\n",
    "            elem['ingredients'][i]['name'] = p.singular_noun(elem['ingredients'][i]['name'])"
   ]
  },
  {
   "cell_type": "code",
   "execution_count": 10,
   "metadata": {},
   "outputs": [],
   "source": [
    "#new_data"
   ]
  },
  {
   "cell_type": "markdown",
   "metadata": {},
   "source": [
    "Add the roles to each ingredient. The roles.json file was manually created and each ingredient was added until almost all of them had a role."
   ]
  },
  {
   "cell_type": "code",
   "execution_count": 11,
   "metadata": {},
   "outputs": [],
   "source": [
    "with open('roles.json') as json_file:\n",
    "    roles = json.load(json_file)\n",
    "\n",
    "for elem in new_data:\n",
    "    for i, s in enumerate(elem['ingredients']):\n",
    "        for role,role_values in roles.items():\n",
    "            for ing_role in role_values:\n",
    "                #print(ing_role)\n",
    "                if ing_role in elem['ingredients'][i]['name'].lower() and 'role' not in elem['ingredients'][i]:\n",
    "                    #print(ing_role,elem['ingredients'][i]['name'])\n",
    "                    elem['ingredients'][i]['role'] = role\n",
    "        "
   ]
  },
  {
   "cell_type": "markdown",
   "metadata": {},
   "source": [
    "The few ingredients that have no role assigned are removed from their recipe"
   ]
  },
  {
   "cell_type": "code",
   "execution_count": 12,
   "metadata": {},
   "outputs": [],
   "source": [
    "#remove non-rolled ingredients\n",
    "for elem in new_data:\n",
    "    for ingre in elem['ingredients'][:]:        \n",
    "        if 'role' not in ingre:\n",
    "            elem['ingredients'].remove(ingre)"
   ]
  },
  {
   "cell_type": "markdown",
   "metadata": {},
   "source": [
    "The measures properties in each ingredient still contain fractions and combinations of fractions. To make calculations easier these were simplified to whole numbers.\n",
    "\n",
    "e.g. 2 1/2 -> 2.5"
   ]
  },
  {
   "cell_type": "code",
   "execution_count": 13,
   "metadata": {},
   "outputs": [],
   "source": [
    "#remove fractions\n",
    "from fractions import Fraction\n",
    "for elem in new_data:\n",
    "    for i, s in enumerate(elem['ingredients']):\n",
    "        words = elem['ingredients'][i]['measure'].split()\n",
    "        total = 0\n",
    "        if '/' in words[0]:\n",
    "            total = float(Fraction(words[0]))\n",
    "        else:\n",
    "            total = float(words[0])\n",
    "        if len(words)> 1 and '/' in words[1]:\n",
    "            total += float(Fraction(words[1]))\n",
    "            total = round(total,3)\n",
    "            arr = [str(total)] + words[2:]\n",
    "            #print(\" \".join(arr))\n",
    "            elem['ingredients'][i]['measure'] = \" \".join(arr)\n",
    "            #print(arr)\n",
    "            #print([total].extend(words[1:]))\n",
    "        elif total > 0:\n",
    "            total = round(total,3)\n",
    "            arr = [str(total)] + words[1:]\n",
    "            #print(\" \".join(arr))\n",
    "            elem['ingredients'][i]['measure'] = \" \".join(arr)\n",
    "            #print(arr)\n",
    "            #print(total)"
   ]
  },
  {
   "cell_type": "markdown",
   "metadata": {},
   "source": [
    "The measure and quantity were separated on each ingredient"
   ]
  },
  {
   "cell_type": "code",
   "execution_count": 14,
   "metadata": {},
   "outputs": [],
   "source": [
    "for elem in new_data:\n",
    "    for i, s in enumerate(elem['ingredients']):\n",
    "        #elem['ingredients'][i] =  parse(elem['ingredients'][i])\n",
    "        words = elem['ingredients'][i]['measure'].split()\n",
    "        elem['ingredients'][i]['quantity'] = words[0]\n",
    "        if len(words) > 1:\n",
    "            elem['ingredients'][i]['measure'] = words[1]\n",
    "        else:\n",
    "            elem['ingredients'][i]['measure'] = 'units'\n",
    "        "
   ]
  },
  {
   "cell_type": "code",
   "execution_count": 15,
   "metadata": {},
   "outputs": [],
   "source": [
    "cup_equivalent = {\n",
    "    'cup':1.0,\n",
    "    'cups':1.0,\n",
    "    'package':3.0,#random\n",
    "    'packages': 3.0,\n",
    "    'box': 4.0,#random\n",
    "    'boxes': 4.0,\n",
    "    'tablespoon':0.0625,\n",
    "    'tablespoons':0.0625,\n",
    "    'teaspoon': 0.02,\n",
    "    'teaspoons': 0.02,\n",
    "    'pound':3.5,\n",
    "    'pounds':3.5,\n",
    "    'pint':2,\n",
    "    'pints':2,\n",
    "}\n",
    "def quantity_norm(ingredient):\n",
    "    if ingredient['measure'] not in cup_equivalent:\n",
    "        print(ingredient)\n",
    "    return float(ingredient['quantity']) * cup_equivalent[ingredient['measure']]"
   ]
  },
  {
   "cell_type": "markdown",
   "metadata": {},
   "source": [
    "The quantity of each ingredient was normalized to make each recipe have the same quantity of flour. This way, all of the dataset is able to make approximately the same quantity of cookies, since, on average, every cookie recipe has the same amount of flour. Obviously, the proportions vary for each recipe, but they are still similar enough to make the playing field even. By normalizing the quantities the crossover between two recipes won't have as many disproportionate ingredients and will generate more realistic cookie recipes"
   ]
  },
  {
   "cell_type": "code",
   "execution_count": 16,
   "metadata": {},
   "outputs": [],
   "source": [
    "#normalize weights\n",
    "flour_value = 1.0\n",
    "for recipe in new_data:\n",
    "    sum = 0\n",
    "    for ingredient in recipe['ingredients']:\n",
    "        if ingredient['role'] == 'flour':\n",
    "            sum += quantity_norm(ingredient)\n",
    "    if sum == 0:\n",
    "        sum = flour_value\n",
    "    for i, s in enumerate(recipe['ingredients']):\n",
    "        recipe['ingredients'][i]['quantity'] = round(float(recipe['ingredients'][i]['quantity']) * flour_value/sum,1)\n"
   ]
  },
  {
   "cell_type": "code",
   "execution_count": 17,
   "metadata": {},
   "outputs": [],
   "source": [
    "jsonString = json.dumps(new_data, indent=2, default=str)\n",
    "jsonFile = open(\"data.json\", \"w\")\n",
    "jsonFile.write(jsonString)\n",
    "jsonFile.close()"
   ]
  }
 ],
 "metadata": {
  "interpreter": {
   "hash": "3352614b04f6a771ec3a392566a3763a34cdc96a177f762027aa589f02ec5f67"
  },
  "kernelspec": {
   "display_name": "Python 3.8.2 32-bit",
   "name": "python3"
  },
  "language_info": {
   "codemirror_mode": {
    "name": "ipython",
    "version": 3
   },
   "file_extension": ".py",
   "mimetype": "text/x-python",
   "name": "python",
   "nbconvert_exporter": "python",
   "pygments_lexer": "ipython3",
   "version": "3.8.2"
  },
  "orig_nbformat": 4
 },
 "nbformat": 4,
 "nbformat_minor": 2
}
