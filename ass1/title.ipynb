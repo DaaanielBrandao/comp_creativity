{
 "cells": [
  {
   "cell_type": "code",
   "execution_count": 61,
   "metadata": {},
   "outputs": [],
   "source": [
    "from collections import defaultdict\n",
    "import json\n",
    "import heapq\n"
   ]
  },
  {
   "cell_type": "code",
   "execution_count": 62,
   "metadata": {},
   "outputs": [],
   "source": [
    "recipes = []\n",
    "\n",
    "bow = defaultdict(int)\n",
    "ingredients_total = set()\n",
    "\n",
    "\n",
    "counter = 0\n",
    "with open('./data.json') as json_file:\n",
    "    data = json.load(json_file)\n",
    "    for p in data:\n",
    "        recipes.append(p)\n",
    "        for word in p['instructions'].lower().split(' '):\n",
    "            bow[word] +=1\n",
    "\n",
    "        for ing in p['ingredients']:\n",
    "            if ing['role'] == 'flavor texture':\n",
    "                ingredients_total.add(ing['name'])\n",
    "\n",
    "\n",
    "bow = {k: v for k, v in sorted(bow.items(), key=lambda item: item[1], reverse=True)}\n",
    "\n"
   ]
  },
  {
   "cell_type": "code",
   "execution_count": 63,
   "metadata": {},
   "outputs": [],
   "source": [
    "from sklearn.feature_extraction.text import TfidfVectorizer\n",
    "\n",
    "corpus = [recipe['title'] for recipe in recipes]\n",
    "corpus_index = {k: v for k, v in enumerate(corpus)}\n",
    "vectorizer = TfidfVectorizer()\n",
    "X = vectorizer.fit_transform(corpus)\n"
   ]
  },
  {
   "cell_type": "code",
   "execution_count": 80,
   "metadata": {},
   "outputs": [
    {
     "name": "stdout",
     "output_type": "stream",
     "text": [
      "award winning soft chocolate chip cookies\n",
      "big soft ginger cookies\n",
      "['butter', 'butter flavored shortening', 'packed light brown sugar', 'white sugar', 'egg', 'vanilla extract', 'all-purpose flour', 'baking soda', 'ground cinnamon', 'ground clove', 'salt', 'rolled oat', 'raisin']\n",
      "---\n"
     ]
    },
    {
     "data": {
      "text/plain": [
       "'chip soft award chocolate winning  cookies'"
      ]
     },
     "execution_count": 80,
     "metadata": {},
     "output_type": "execute_result"
    }
   ],
   "source": [
    "def merge_titles(index1, index2, ingredients_new_recipe):\n",
    "    #print(vectorizer.get_feature_names())\n",
    "    ingredients_new_recipe = [x['name'].lower() for x in ingredients_new_recipe]\n",
    "    print(ingredients_new_recipe)\n",
    "\n",
    "    feature_names = vectorizer.get_feature_names()\n",
    "    feature_index = X[index1,:].nonzero()[1]\n",
    "    tfidf_scores = zip(feature_index, [X[index1, x] for x in feature_index])\n",
    "    \n",
    "    pq = []\n",
    "    name1 = ''\n",
    "    first_high_score = -1\n",
    "    first_characteristics = []\n",
    "    for w, s in [(feature_names[i], s) for (i, s) in tfidf_scores]:\n",
    "        first_characteristics.append(w)\n",
    "        for ing in ingredients_new_recipe:\n",
    "            if w in ing and first_high_score < s:\n",
    "                name1 = w + ' '\n",
    "                \n",
    "            else:\n",
    "                if w != 'cookies': \n",
    "                    pq.append((s, w))\n",
    "\n",
    "\n",
    "    print(\"---\")\n",
    "    common_characteristics = []\n",
    "    pq2 = []\n",
    "    name2 = ' '\n",
    "    second_high_score = -1\n",
    "    feature_index = X[index2,:].nonzero()[1]\n",
    "    tfidf_scores = zip(feature_index, [X[index2, x] for x in feature_index])\n",
    "    for w, s in [(feature_names[i], s) for (i, s) in tfidf_scores]:\n",
    "\n",
    "        if w == 'cookies':\n",
    "            continue\n",
    "\n",
    "        if w in first_characteristics and w != 'cookies':\n",
    "            common_characteristics.append(w)\n",
    "\n",
    "        for ing in ingredients_new_recipe:\n",
    "            if w in ing and second_high_score < s:\n",
    "                name2 = w + ' '\n",
    "            else: \n",
    "                if w != 'cookies': \n",
    "                    pq2.append((s, w))\n",
    "\n",
    "    sorted(pq, reverse=True)\n",
    "    sorted(pq2, reverse=True)\n",
    "\n",
    "    words = set([*common_characteristics, pq[0][1], pq[1][1]])\n",
    "\n",
    "    if len(words) > 0:\n",
    "        words =  ' '.join(words) + ' '\n",
    "    else:\n",
    "        words = ''\n",
    "\n",
    "    ans = words + name1 + name2 + 'cookies'\n",
    "    return ans\n",
    "\n",
    "\n",
    "print(recipes[3]['title'].lower())\n",
    "print(recipes[5]['title'].lower())\n",
    "merge_titles(3, 5, recipes[3]['ingredients'])"
   ]
  },
  {
   "cell_type": "code",
   "execution_count": 91,
   "metadata": {},
   "outputs": [
    {
     "name": "stdout",
     "output_type": "stream",
     "text": [
      "Add ok. \n"
     ]
    }
   ],
   "source": [
    "a = ['ok']\n",
    "def separate_enumeration(a):\n",
    "    if len(a) > 1:\n",
    "        instruction = 'Add ' + ', '.join(a[:-1]) + ' and '  + a[-1] + '. '\n",
    "    else:\n",
    "        instruction = 'Add ' + a[0] + '. '\n",
    "    return instruction\n",
    "\n",
    "print(separate_enumeration(a))"
   ]
  }
 ],
 "metadata": {
  "interpreter": {
   "hash": "31f2aee4e71d21fbe5cf8b01ff0e069b9275f58929596ceb00d14d90e3e16cd6"
  },
  "kernelspec": {
   "display_name": "Python 3.9.2 64-bit",
   "name": "python3"
  },
  "language_info": {
   "codemirror_mode": {
    "name": "ipython",
    "version": 3
   },
   "file_extension": ".py",
   "mimetype": "text/x-python",
   "name": "python",
   "nbconvert_exporter": "python",
   "pygments_lexer": "ipython3",
   "version": "3.6.9"
  },
  "orig_nbformat": 4
 },
 "nbformat": 4,
 "nbformat_minor": 2
}
