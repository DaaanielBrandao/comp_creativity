{
 "cells": [
  {
   "cell_type": "code",
   "execution_count": 37,
   "metadata": {},
   "outputs": [],
   "source": [
    "import numpy as np\n",
    "import json\n",
    "import re\n",
    "#https://www.instructables.com/How-Ingredients-Behave-In-A-Cookie-Recipe/"
   ]
  },
  {
   "cell_type": "code",
   "execution_count": 38,
   "metadata": {},
   "outputs": [],
   "source": [
    "#import data\n",
    "with open('recipes_raw_nosource_ar.json') as json_file:\n",
    "    data = json.load(json_file)"
   ]
  },
  {
   "cell_type": "code",
   "execution_count": 39,
   "metadata": {},
   "outputs": [],
   "source": [
    "#get the cookies\n",
    "new_data = []\n",
    "for value in list(data.values()):\n",
    "    if 'title' in value:\n",
    "        if 'Cookie' in value['title'] or 'cookie' in value['title']:\n",
    "            new_data.append(value)"
   ]
  },
  {
   "cell_type": "code",
   "execution_count": 40,
   "metadata": {},
   "outputs": [],
   "source": [
    "# filtering and stuff\n",
    "# remove non ingrediets\n",
    "# remove advertisement at the end of ingredients\n",
    "for elem in new_data:\n",
    "    for item in elem['ingredients'][:]:\n",
    "        if not item[0].isdigit():\n",
    "            elem['ingredients'].remove(item)\n",
    "    for i, s in enumerate(elem['ingredients']):\n",
    "        elem['ingredients'][i] =  elem['ingredients'][i][:len(elem['ingredients'][i]) - 14]"
   ]
  },
  {
   "cell_type": "code",
   "execution_count": 41,
   "metadata": {},
   "outputs": [],
   "source": [
    "#remove () and things after ,\n",
    "for elem in new_data:\n",
    "    for i, s in enumerate(elem['ingredients']):\n",
    "        elem['ingredients'][i] = re.sub('\\(.*?\\)', '', elem['ingredients'][i])\n",
    "        elem['ingredients'][i] = elem['ingredients'][i].split(\",\", 1)[0]"
   ]
  },
  {
   "cell_type": "code",
   "execution_count": 42,
   "metadata": {},
   "outputs": [],
   "source": [
    "\n",
    "SEPARATOR_RE = re.compile(r'^([\\d\\s*[\\d\\.,/]*)\\s*(.+)')\n",
    "\n",
    "\n",
    "def normalize(st):\n",
    "    \"\"\"\n",
    "\n",
    "    :param st:\n",
    "    :return:\n",
    "    \"\"\"\n",
    "    return re.sub(r'\\s+', ' ', SEPARATOR_RE.sub('\\g<1> \\g<2>', st)).strip()\n",
    "\n",
    "\n",
    "def escape_re_string(text):\n",
    "    \"\"\"\n",
    "\n",
    "    :param text:\n",
    "    :return:\n",
    "    \"\"\"\n",
    "    text = text.replace('.', '\\.')\n",
    "    return re.sub(r'\\s+', ' ', text)"
   ]
  },
  {
   "cell_type": "code",
   "execution_count": 43,
   "metadata": {},
   "outputs": [],
   "source": [
    "\n",
    "\n",
    "import re\n",
    "from itertools import chain\n",
    "\n",
    "\n",
    "UNITS = {\"cup\": [\"cups\", \"cup\", \"c.\", \"c\"], \"fluid_ounce\": [\"fl. oz.\", \"fl oz\", \"fluid ounce\", \"fluid ounces\"],\n",
    "         \"gallon\": [\"gal\", \"gal.\", \"gallon\", \"gallons\"], \"ounce\": [\"oz\", \"oz.\", \"ounce\", \"ounces\"],\n",
    "         \"pint\": [\"pt\", \"pt.\", \"pint\", \"pints\"], \"pound\": [\"lb\", \"lb.\", \"pound\", \"pounds\"],\n",
    "         \"quart\": [\"qt\", \"qt.\", \"qts\", \"qts.\", \"quart\", \"quarts\"],\n",
    "         \"tablespoon\": [\"tbsp.\", \"tbsp\", \"T\", \"T.\", \"tablespoon\", \"tablespoons\", \"tbs.\", \"tbs\"],\n",
    "         \"teaspoon\": [\"tsp.\", \"tsp\", \"t\", \"t.\", \"teaspoon\", \"teaspoons\"],\n",
    "         \"gram\": [\"g\", \"g.\", \"gr\", \"gr.\", \"gram\", \"grams\"], \"kilogram\": [\"kg\", \"kg.\", \"kilogram\", \"kilograms\"],\n",
    "         \"liter\": [\"l\", \"l.\", \"liter\", \"liters\"], \"milligram\": [\"mg\", \"mg.\", \"milligram\", \"milligrams\"],\n",
    "         \"milliliter\": [\"ml\", \"ml.\", \"milliliter\", \"milliliters\"], \"pinch\": [\"pinch\", \"pinches\"],\n",
    "         \"dash\": [\"dash\", \"dashes\"], \"touch\": [\"touch\", \"touches\"], \"handful\": [\"handful\", \"handfuls\"],\n",
    "         \"stick\": [\"stick\", \"sticks\"], \"clove\": [\"cloves\", \"clove\"], \"can\": [\"cans\", \"can\"], \"large\": [\"large\"],\n",
    "         \"small\": [\"small\"], \"scoop\": [\"scoop\", \"scoops\"], \"filets\": [\"filet\", \"filets\"], \"sprig\": [\"sprigs\", \"sprig\"]}\n",
    "\n",
    "NUMBERS = ['seventeen', 'eighteen', 'thirteen', 'nineteen', 'fourteen', 'sixteen', 'fifteen', 'seventy', 'twelve',\n",
    "           'eleven', 'eighty', 'thirty', 'ninety', 'twenty', 'seven', 'fifty', 'sixty', 'forty', 'three', 'eight',\n",
    "           'four', 'zero', 'five', 'nine', 'ten', 'one', 'six', 'two', 'an', 'a']\n",
    "\n",
    "prepositions = [\"of\"]\n",
    "\n",
    "a = list(chain.from_iterable(UNITS.values()))\n",
    "a.sort(key=lambda x: len(x), reverse=True)\n",
    "a = map(escape_re_string, a)\n",
    "\n",
    "PARSER_RE = re.compile(\n",
    "    r'(?P<quantity>(?:[\\d\\.,][\\d\\.,\\s/]*)?\\s*(?:(?:%s)\\s*)*)?(\\s*(?P<unit>%s)\\s+)?(\\s*(?:%s)\\s+)?(\\s*(?P<name>.+))?' % (\n",
    "        '|'.join(NUMBERS), '|'.join(a), '|'.join(prepositions)))\n",
    "\n",
    "\n",
    "def parse(st):\n",
    "    \"\"\"\n",
    "\n",
    "    :param st:\n",
    "    :return:\n",
    "    \"\"\"\n",
    "    st = normalize(st)\n",
    "    res = PARSER_RE.match(st)\n",
    "\n",
    "    return {\n",
    "        'measure': ((res.group('quantity') or '').strip() + ' ' + (res.group('unit') or '').strip()).lstrip().rstrip(),\n",
    "        'name': (res.group('name') or '').strip()\n",
    "    }\n"
   ]
  },
  {
   "cell_type": "code",
   "execution_count": 44,
   "metadata": {},
   "outputs": [],
   "source": [
    "#from ingredient_parser.en import parse \n",
    "for elem in new_data:\n",
    "    for i, s in enumerate(elem['ingredients']):\n",
    "        elem['ingredients'][i] =  parse(elem['ingredients'][i])\n",
    "\n",
    "#print(new_data)"
   ]
  },
  {
   "cell_type": "code",
   "execution_count": 45,
   "metadata": {},
   "outputs": [],
   "source": [
    "with open('roles.json') as json_file:\n",
    "    roles = json.load(json_file)\n",
    "\n",
    "for elem in new_data:\n",
    "    for i, s in enumerate(elem['ingredients']):\n",
    "        for role,role_values in roles.items():\n",
    "            for ing_role in role_values:\n",
    "                #print(ing_role)\n",
    "                if ing_role in elem['ingredients'][i]['name'].lower() and 'role' not in elem['ingredients'][i]:\n",
    "                    #print(ing_role,elem['ingredients'][i]['name'])\n",
    "                    elem['ingredients'][i]['role'] = role\n",
    "        "
   ]
  },
  {
   "cell_type": "code",
   "execution_count": 46,
   "metadata": {},
   "outputs": [],
   "source": [
    "for elem in new_data:\n",
    "    for ingre in elem['ingredients'][:]:        \n",
    "        if 'role' not in ingre:\n",
    "            elem['ingredients'].remove(ingre)"
   ]
  },
  {
   "cell_type": "code",
   "execution_count": 47,
   "metadata": {},
   "outputs": [],
   "source": [
    "from fractions import Fraction\n",
    "for elem in new_data:\n",
    "    for i, s in enumerate(elem['ingredients']):\n",
    "        words = elem['ingredients'][i]['measure'].split()\n",
    "        total = 0\n",
    "        if '/' in words[0]:\n",
    "            total = float(Fraction(words[0]))\n",
    "        else:\n",
    "            total = float(words[0])\n",
    "        if len(words)> 1 and '/' in words[1]:\n",
    "            total += float(Fraction(words[1]))\n",
    "            total = round(total,3)\n",
    "            arr = [str(total)] + words[2:]\n",
    "            #print(\" \".join(arr))\n",
    "            elem['ingredients'][i]['measure'] = \" \".join(arr)\n",
    "            #print(arr)\n",
    "            #print([total].extend(words[1:]))\n",
    "        elif total > 0:\n",
    "            total = round(total,3)\n",
    "            arr = [str(total)] + words[1:]\n",
    "            #print(\" \".join(arr))\n",
    "            elem['ingredients'][i]['measure'] = \" \".join(arr)\n",
    "            #print(arr)\n",
    "            #print(total)"
   ]
  },
  {
   "cell_type": "code",
   "execution_count": 48,
   "metadata": {},
   "outputs": [],
   "source": [
    "jsonString = json.dumps(new_data, indent=2, default=str)\n",
    "jsonFile = open(\"data.json\", \"w\")\n",
    "jsonFile.write(jsonString)\n",
    "jsonFile.close()"
   ]
  }
 ],
 "metadata": {
  "interpreter": {
   "hash": "3352614b04f6a771ec3a392566a3763a34cdc96a177f762027aa589f02ec5f67"
  },
  "kernelspec": {
   "display_name": "Python 3.8.2 32-bit",
   "name": "python3"
  },
  "language_info": {
   "codemirror_mode": {
    "name": "ipython",
    "version": 3
   },
   "file_extension": ".py",
   "mimetype": "text/x-python",
   "name": "python",
   "nbconvert_exporter": "python",
   "pygments_lexer": "ipython3",
   "version": "3.8.2"
  },
  "orig_nbformat": 4
 },
 "nbformat": 4,
 "nbformat_minor": 2
}
