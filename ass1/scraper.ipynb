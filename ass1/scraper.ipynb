{
 "cells": [
  {
   "cell_type": "code",
   "execution_count": 20,
   "metadata": {},
   "outputs": [
    {
     "name": "stdout",
     "output_type": "stream",
     "text": [
      "['https://food52.com/recipes/2275-figgy-pudding-butter-cookies', 'https://food52.com/recipes/2275-figgy-pudding-butter-cookies', 'https://food52.com/recipes/3881-chewy-sugar-cookies-2', 'https://food52.com/recipes/3881-chewy-sugar-cookies-2', 'https://food52.com/recipes/1613-sesame-and-coconut-sugar-cookies', 'https://food52.com/recipes/1613-sesame-and-coconut-sugar-cookies', 'https://food52.com/recipes/1226-salted-double-chocolate-peanut-butter-cookies', 'https://food52.com/recipes/1226-salted-double-chocolate-peanut-butter-cookies', 'https://food52.com/recipes/16492-coconut-chow-mein-butterscotch-cookies', 'https://food52.com/recipes/16492-coconut-chow-mein-butterscotch-cookies', 'https://food52.com/recipes/35257-pea-cookies', 'https://food52.com/recipes/35257-pea-cookies', 'https://food52.com/recipes/34788-the-pantry-cookie', 'https://food52.com/recipes/34788-the-pantry-cookie', 'https://food52.com/recipes/37734-breakfast-cookies', 'https://food52.com/recipes/37734-breakfast-cookies', 'https://food52.com/recipes/3913-chewiest-sugar-cookies', 'https://food52.com/recipes/3913-chewiest-sugar-cookies', 'https://food52.com/recipes/1191-triple-threat-cookies', 'https://food52.com/recipes/1191-triple-threat-cookies', 'https://food52.com/recipes/31749-cookies-and-cream-bars', 'https://food52.com/recipes/31749-cookies-and-cream-bars', 'https://food52.com/recipes/8088-holiday-sables', 'https://food52.com/recipes/8088-holiday-sables', 'https://food52.com/recipes/32383-crispy-crunchy-oatmeal-cookies', 'https://food52.com/recipes/32383-crispy-crunchy-oatmeal-cookies', 'https://food52.com/recipes/18787-fig-and-rosemary-cocktail-cookies', 'https://food52.com/recipes/18787-fig-and-rosemary-cocktail-cookies', 'https://food52.com/recipes/36473-salted-chocolate-chip-cookies', 'https://food52.com/recipes/36473-salted-chocolate-chip-cookies', 'https://food52.com/recipes/11220-triple-chocolate-espresso-cookies', 'https://food52.com/recipes/11220-triple-chocolate-espresso-cookies', 'https://food52.com/recipes/35312-chocolate-dipped-seed-cookies', 'https://food52.com/recipes/35312-chocolate-dipped-seed-cookies', 'https://food52.com/recipes/1198-chocolate-orange-madeleine-cookies', 'https://food52.com/recipes/1198-chocolate-orange-madeleine-cookies', 'https://food52.com/recipes/1171-bittersweet-chocolate-orange-and-cardamom-cookies', 'https://food52.com/recipes/1171-bittersweet-chocolate-orange-and-cardamom-cookies', 'https://food52.com/recipes/3884-ginger-spiced-molasses-sugar-cookies', 'https://food52.com/recipes/3884-ginger-spiced-molasses-sugar-cookies', 'https://food52.com/recipes/35488-brown-butter-nutella-skillet-cookie', 'https://food52.com/recipes/35488-brown-butter-nutella-skillet-cookie', 'https://food52.com/recipes/37057-low-sugar-oatmeal-raisin-cranberry-cookies', 'https://food52.com/recipes/37057-low-sugar-oatmeal-raisin-cranberry-cookies', 'https://food52.com/recipes/38553-claire-ptak-s-kamut-vanilla-and-chocolate-chip-cookies', 'https://food52.com/recipes/38553-claire-ptak-s-kamut-vanilla-and-chocolate-chip-cookies', 'https://food52.com/recipes/3776-citrus-thyme-macaroons', 'https://food52.com/recipes/3776-citrus-thyme-macaroons', 'https://food52.com/recipes/search?page=2&q=cookie', 'https://food52.com/recipes/search?page=3&q=cookie', 'https://food52.com/recipes/search?page=208&q=cookie', 'https://food52.com/recipes/search?page=209&q=cookie', 'https://food52.com/recipes/search?page=2&q=cookie', 'https://food52.com/recipes/3848-oaxacan-cinnamon-chocolate-macarons', 'https://food52.com/recipes/3848-oaxacan-cinnamon-chocolate-macarons', 'https://food52.com/recipes/2235-ruggelach', 'https://food52.com/recipes/2235-ruggelach', 'https://food52.com/recipes/9896-carrot-halwa-blondie-bars', 'https://food52.com/recipes/9896-carrot-halwa-blondie-bars', 'https://food52.com/recipes/3809-meyer-lemon-macarons', 'https://food52.com/recipes/3809-meyer-lemon-macarons', 'https://food52.com/recipes/8010-fig-and-blue-cheese-savouries', 'https://food52.com/recipes/8010-fig-and-blue-cheese-savouries', 'https://food52.com/recipes/22652-almond-oatmeal-cookies-with-dried-cherries', 'https://food52.com/recipes/22652-almond-oatmeal-cookies-with-dried-cherries', 'https://food52.com/recipes/3924-orange-sugar-cookies', 'https://food52.com/recipes/3924-orange-sugar-cookies', 'https://food52.com/recipes/2214-spiced-apple-cookies', 'https://food52.com/recipes/2214-spiced-apple-cookies', 'https://food52.com/recipes/1194-aztec-chocolate-cookies', 'https://food52.com/recipes/1194-aztec-chocolate-cookies', 'https://food52.com/recipes/2224-deconstructed-chocolate-chip-cookies', 'https://food52.com/recipes/2224-deconstructed-chocolate-chip-cookies', 'https://food52.com/recipes/3880-chewy-sugar-cookies-1', 'https://food52.com/recipes/3880-chewy-sugar-cookies-1', 'https://food52.com/recipes/2233-everyone-s-favorite-white-cookies', 'https://food52.com/recipes/2233-everyone-s-favorite-white-cookies', 'https://food52.com/recipes/2241-kaki-s-favorite-pistachio-cookies', 'https://food52.com/recipes/2241-kaki-s-favorite-pistachio-cookies', 'https://food52.com/recipes/38973-brown-butter-mocha-cookies', 'https://food52.com/recipes/38973-brown-butter-mocha-cookies', 'https://food52.com/recipes/22475-honey-oat-chewies', 'https://food52.com/recipes/22475-honey-oat-chewies', 'https://food52.com/recipes/2251-st-clement-s-orange-and-lemon-cookies', 'https://food52.com/recipes/2251-st-clement-s-orange-and-lemon-cookies', 'https://food52.com/recipes/10609-red-bean-espresso-brownies', 'https://food52.com/recipes/10609-red-bean-espresso-brownies', 'https://food52.com/recipes/2253-all-i-want-for-christmas-peanut-butter-cookies', 'https://food52.com/recipes/2253-all-i-want-for-christmas-peanut-butter-cookies', 'https://food52.com/recipes/1192-chewy-chocolate-cookies-with-rum-soaked-raisins', 'https://food52.com/recipes/1192-chewy-chocolate-cookies-with-rum-soaked-raisins', 'https://food52.com/recipes/3886-stick-to-your-teeth-chewy-sugar-cookies', 'https://food52.com/recipes/3886-stick-to-your-teeth-chewy-sugar-cookies', 'https://food52.com/recipes/4283-thrice-cooked-potatoes', 'https://food52.com/recipes/4283-thrice-cooked-potatoes', 'https://food52.com/recipes/4178-lime-cornmeal-biscotti', 'https://food52.com/recipes/4178-lime-cornmeal-biscotti', 'https://food52.com/recipes/3818-oreo-macaroons', 'https://food52.com/recipes/3818-oreo-macaroons', 'https://food52.com/recipes/2283-advent-calendar-cookies-for-very-patient-cooks', 'https://food52.com/recipes/2283-advent-calendar-cookies-for-very-patient-cooks', 'https://food52.com/recipes/search?page=1&q=cookie', 'https://food52.com/recipes/search?page=1&q=cookie', 'https://food52.com/recipes/search?page=3&q=cookie', 'https://food52.com/recipes/search?page=208&q=cookie', 'https://food52.com/recipes/search?page=209&q=cookie', 'https://food52.com/recipes/search?page=3&q=cookie', 'https://food52.com/recipes/16997-chewy-chocolate-meringues', 'https://food52.com/recipes/16997-chewy-chocolate-meringues', 'https://food52.com/recipes/2557-persimmon-chiffon-pie-with-a-gingersnap-crust', 'https://food52.com/recipes/2557-persimmon-chiffon-pie-with-a-gingersnap-crust', 'https://food52.com/recipes/16667-alice-medrich-s-new-classic-coconut-macaroons', 'https://food52.com/recipes/16667-alice-medrich-s-new-classic-coconut-macaroons', 'https://food52.com/recipes/5481-cookie-cake', 'https://food52.com/recipes/5481-cookie-cake', 'https://food52.com/recipes/14752-spice-cookies', 'https://food52.com/recipes/14752-spice-cookies', 'https://food52.com/recipes/15996-anise-cookie', 'https://food52.com/recipes/15996-anise-cookie', 'https://food52.com/recipes/6932-millionnaire-s-shortbread', 'https://food52.com/recipes/6932-millionnaire-s-shortbread', 'https://food52.com/recipes/25128-tahini-cookies', 'https://food52.com/recipes/25128-tahini-cookies', 'https://food52.com/recipes/16660-maple-walnut-cookie-and-ginger-ice-cream-sandwiches', 'https://food52.com/recipes/16660-maple-walnut-cookie-and-ginger-ice-cream-sandwiches', 'https://food52.com/recipes/6621-casablanca-cookies', 'https://food52.com/recipes/6621-casablanca-cookies', 'https://food52.com/recipes/8332-thumbprint-cookies', 'https://food52.com/recipes/8332-thumbprint-cookies', 'https://food52.com/recipes/9504-chocolate-chip-cookies', 'https://food52.com/recipes/9504-chocolate-chip-cookies', 'https://food52.com/recipes/21445-fennel-biscotti', 'https://food52.com/recipes/21445-fennel-biscotti', 'https://food52.com/recipes/2533-white-chocolate-snowflakes', 'https://food52.com/recipes/2533-white-chocolate-snowflakes', 'https://food52.com/recipes/21713-oatmeal-and-lavender-shortbread', 'https://food52.com/recipes/21713-oatmeal-and-lavender-shortbread', 'https://food52.com/recipes/9353-cardamom-sundae-with-cognac-cardamom-caramel-and-grapefruit-cardamom-lace-cookie-crumble', 'https://food52.com/recipes/9353-cardamom-sundae-with-cognac-cardamom-caramel-and-grapefruit-cardamom-lace-cookie-crumble', 'https://food52.com/recipes/4170-sweet-and-salty-herbed-shortbread', 'https://food52.com/recipes/4170-sweet-and-salty-herbed-shortbread', 'https://food52.com/recipes/16869-macaroons', 'https://food52.com/recipes/16869-macaroons', 'https://food52.com/recipes/6296-variations-on-a-meringue-cookie', 'https://food52.com/recipes/6296-variations-on-a-meringue-cookie', 'https://food52.com/recipes/9326-swiss-spice-cookie', 'https://food52.com/recipes/9326-swiss-spice-cookie', 'https://food52.com/recipes/7154-apple-chip-cookies', 'https://food52.com/recipes/7154-apple-chip-cookies', 'https://food52.com/recipes/8992-chocolate-orange-cookies', 'https://food52.com/recipes/8992-chocolate-orange-cookies', 'https://food52.com/recipes/1129-chocolate-cookie-drops', 'https://food52.com/recipes/1129-chocolate-cookie-drops', 'https://food52.com/recipes/1213-nutty-chocolate-cookie', 'https://food52.com/recipes/1213-nutty-chocolate-cookie', 'https://food52.com/recipes/search?page=2&q=cookie', 'https://food52.com/recipes/search?page=1&q=cookie', 'https://food52.com/recipes/search?page=2&q=cookie', 'https://food52.com/recipes/search?page=4&q=cookie', 'https://food52.com/recipes/search?page=208&q=cookie', 'https://food52.com/recipes/search?page=209&q=cookie', 'https://food52.com/recipes/search?page=4&q=cookie']\n"
     ]
    }
   ],
   "source": [
    "from recipe_scrapers import scrape_me\n",
    "import urllib3\n",
    "from bs4 import BeautifulSoup\n",
    "import numpy as np\n",
    "\n",
    "# give the url as a string, it can be url from any site listed below\n",
    "scraper = scrape_me('https://www.bbcgoodfood.com/recipes/chocolate-fudge-crinkle-biscuits')\n",
    "\n",
    "#scraper.title()\n",
    "#scraper.total_time()\n",
    "#scraper.yields()\n",
    "#print(scraper.ingredients())\n",
    "#print(scraper.instructions())\n",
    "#scraper.image()\n",
    "#scraper.host()\n",
    "#scraper.links()\n",
    "#print(scraper.nutrients())  # if available\n",
    "http = urllib3.PoolManager()\n",
    "links=[]\n",
    "for i in range(1,4):  \n",
    "    #URL = 'https://www.bbcgoodfood.com/search/recipes/page/'+str(i)+'/?q=cookie&sort=-relevance'\n",
    "    URL = 'https://food52.com/recipes/search?page='+str(i)+'&q=cookie' #+ str(i)\n",
    "    response = http.request('GET', URL)\n",
    "    soup= BeautifulSoup(response.data,\"html.parser\")\n",
    "    for link in soup.find_all('a'):\n",
    "        if link.has_attr('href'):\n",
    "            if(\"/recipes/\" in str(link['href'])):    \n",
    "                rec_link = str(link['href'])\n",
    "                #links.append('https://www.bbcgoodfood.com'+rec_link)\n",
    "                if not (rec_link.startswith('http')):\n",
    "                    links.append('https://food52.com' + rec_link)\n",
    "            \n",
    "    \n",
    "#print (links)\n"
   ]
  },
  {
   "cell_type": "code",
   "execution_count": 21,
   "metadata": {},
   "outputs": [],
   "source": [
    "recipes = []\n",
    "for link in links:\n",
    "    try:\n",
    "        scraper = scrape_me(link)\n",
    "        recipes.append({'title': scraper.title(),\n",
    "                        'ingredients': scraper.ingredients(),\n",
    "                        #'instructions': scraper.instructions(),\n",
    "                        #'nutrients': scraper.nutrients()\n",
    "                        })\n",
    "    except:\n",
    "        pass"
   ]
  },
  {
   "cell_type": "code",
   "execution_count": 22,
   "metadata": {},
   "outputs": [],
   "source": [
    "import json\n",
    "jsonString = json.dumps(recipes)\n",
    "jsonFile = open(\"data.json\", \"w\")\n",
    "jsonFile.write(jsonString)\n",
    "jsonFile.close()\n",
    "#print(recipes)"
   ]
  }
 ],
 "metadata": {
  "interpreter": {
   "hash": "3352614b04f6a771ec3a392566a3763a34cdc96a177f762027aa589f02ec5f67"
  },
  "kernelspec": {
   "display_name": "Python 3.8.2 32-bit",
   "name": "python3"
  },
  "language_info": {
   "codemirror_mode": {
    "name": "ipython",
    "version": 3
   },
   "file_extension": ".py",
   "mimetype": "text/x-python",
   "name": "python",
   "nbconvert_exporter": "python",
   "pygments_lexer": "ipython3",
   "version": "3.8.2"
  },
  "orig_nbformat": 4
 },
 "nbformat": 4,
 "nbformat_minor": 2
}
