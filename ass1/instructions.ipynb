{
 "cells": [
  {
   "cell_type": "code",
   "execution_count": 116,
   "metadata": {},
   "outputs": [],
   "source": [
    "from collections import defaultdict\n",
    "import json\n",
    "import re\n",
    "import random\n",
    "import os"
   ]
  },
  {
   "cell_type": "code",
   "execution_count": 44,
   "metadata": {},
   "outputs": [],
   "source": [
    "recipes = []\n",
    "\n",
    "bow = defaultdict(int)\n",
    "\n",
    "\n",
    "counter = 0\n",
    "with open('./data.json') as json_file:\n",
    "    data = json.load(json_file)\n",
    "    for p in data:\n",
    "        recipes.append(p)\n",
    "        for word in p['instructions'].lower().split(' '):\n",
    "            bow[word] +=1\n",
    "\n",
    "\n",
    "bow = {k: v for k, v in sorted(bow.items(), key=lambda item: item[1], reverse=True)}\n",
    "\n"
   ]
  },
  {
   "cell_type": "code",
   "execution_count": 119,
   "metadata": {},
   "outputs": [
    {
     "name": "stdout",
     "output_type": "stream",
     "text": [
      "Preheat the oven at 350 F degrees.\n",
      "Add unsalted butter, packed brown sugar, white sugar. Then add all-purpose flour, baking soda, egg, egg yolk. Finally, join the following flavour textures: salt, vanilla extract, semisweet chocolate chips. \n",
      "Put the dough in the oven from 10 to 12 minutes. Take it from the oven and let it cool down.\n"
     ]
    }
   ],
   "source": [
    "# does not have quantities\n",
    "def crossover_instructions(recipe1, recipe2, ingredients_final):\n",
    "\n",
    "    # preheating\n",
    "    regex ='preheat (\\w+\\s)+(\\d+)\\sdegrees F'\n",
    "    result1 = re.search(regex, recipe1['instructions'],  re.IGNORECASE | re.MULTILINE)\n",
    "    result2 = re.search(regex, recipe2['instructions'],  re.IGNORECASE | re.MULTILINE)\n",
    "\n",
    "    \n",
    "    temp1 = -1\n",
    "    temp2 = -1\n",
    "\n",
    "    if result1 != None:\n",
    "        temp1 = int(result1.group(2))\n",
    "    if result2 != None:\n",
    "        temp2 = int(result2.group(2))\n",
    "\n",
    "    if temp1 !=-1 and temp2 !=-1:\n",
    "        temp = round(random.uniform(temp1, temp2),0)\n",
    "    elif temp1 != -1:\n",
    "        temp = temp1\n",
    "    else:\n",
    "        temp = temp2\n",
    "\n",
    "    first_step = \"Preheat the oven at \" + str(temp) + \" F degrees.\"\n",
    "\n",
    "    # add fat and sugar\n",
    "    first = []\n",
    "    second = []\n",
    "    third = []\n",
    "\n",
    "    for ingredient in ingredients_final:\n",
    "        if ingredient['role'] == 'fat' or ingredient['role'] == 'sugar':\n",
    "            first.append(ingredient['name'])\n",
    "        #flour, rising agent, binding agent\n",
    "        elif ingredient['role'] == 'flour' or ingredient['role'] == 'rising agent' or ingredient['role'] == 'binding agent':\n",
    "            second.append(ingredient['name'])\n",
    "        # add flavour texture\n",
    "        else:\n",
    "            third.append(ingredient['name'])\n",
    "\n",
    "\n",
    "    second_step = 'Add ' + ', '.join(first) + '. '\n",
    "    second_step += 'Then add ' + ', '.join(second) + '. '\n",
    "    second_step += 'Finally, join the following flavour textures: ' + ', '.join(third) +'. '\n",
    "\n",
    "\n",
    "    # baking\n",
    "    lower = 10000\n",
    "    upper = -1\n",
    "    regex2 = '((\\d+) to)? (\\d+) minutes'\n",
    "    times1 = re.search(regex2, recipe1['instructions'],  re.IGNORECASE | re.MULTILINE)\n",
    "    if times1 != None:\n",
    "        #print(times1.groups())\n",
    "        if times1.group(1) == None:\n",
    "            lower = min(int(times1.group(3)),lower)\n",
    "            upper = max(int(times1.group(3)), upper)\n",
    "\n",
    "        else:\n",
    "            lower = min(int(times1.group(2)), lower)\n",
    "            upper = max(int(times1.group(3)), upper)\n",
    "\n",
    "    times2 = re.search(regex2, recipe2['instructions'],  re.IGNORECASE | re.MULTILINE)\n",
    "\n",
    "    if times2 != None:\n",
    "        #print(times2.groups())\n",
    "        if times2.group(1) == None:\n",
    "            lower = min(int(times2.group(3)), lower)\n",
    "            upper = max(int(times2.group(3)), upper)\n",
    "        else:\n",
    "            lower = min(int(times2.group(2)), lower)\n",
    "            upper = max(int(times2.group(3)), upper)\n",
    "\n",
    "\n",
    "\n",
    "    third_step = \"Put the dough in the oven from \" + str(lower) + \" to \" + str(upper) + \" minutes. Take it from the oven and let it cool down.\"\n",
    "    #print(third_step)\n",
    "    return first_step + os.linesep + second_step + os.linesep + third_step\n",
    "\n",
    "\n",
    "\n",
    "\n",
    "print(crossover_instructions(recipes[3], recipes[100], recipes[2]['ingredients']))\n"
   ]
  }
 ],
 "metadata": {
  "interpreter": {
   "hash": "31f2aee4e71d21fbe5cf8b01ff0e069b9275f58929596ceb00d14d90e3e16cd6"
  },
  "kernelspec": {
   "display_name": "Python 3.9.2 64-bit",
   "name": "python3"
  },
  "language_info": {
   "codemirror_mode": {
    "name": "ipython",
    "version": 3
   },
   "file_extension": ".py",
   "mimetype": "text/x-python",
   "name": "python",
   "nbconvert_exporter": "python",
   "pygments_lexer": "ipython3",
   "version": "3.6.9"
  },
  "orig_nbformat": 4
 },
 "nbformat": 4,
 "nbformat_minor": 2
}
