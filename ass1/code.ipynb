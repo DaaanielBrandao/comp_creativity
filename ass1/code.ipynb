{
 "cells": [
  {
   "cell_type": "code",
   "execution_count": 1,
   "metadata": {},
   "outputs": [],
   "source": [
    "import json\n",
    "from collections import defaultdict\n",
    "import re\n",
    "import random\n",
    "import string\n",
    "import math\n",
    "import numpy as np\n",
    "from operator import itemgetter \n"
   ]
  },
  {
   "cell_type": "code",
   "execution_count": 2,
   "metadata": {},
   "outputs": [],
   "source": [
    "recipes = []\n",
    "roles = defaultdict(set)\n",
    "\n",
    "with open('./data.json') as json_file:\n",
    "    data = json.load(json_file)\n",
    "    for p in data:\n",
    "        recipes.append(p)\n",
    "        for ing in p['ingredients']:\n",
    "            if 'role' not in ing: # remove this\n",
    "                continue\n",
    "            roles[ing['role']].add(ing['name'])\n"
   ]
  },
  {
   "cell_type": "code",
   "execution_count": 26,
   "metadata": {},
   "outputs": [],
   "source": [
    "cup_equivalent = {\n",
    "    'cup':1.0,\n",
    "    'cups':1.0,\n",
    "    'package':3.0,#random\n",
    "    'packages': 3.0,\n",
    "    'box': 4.0,#random\n",
    "    'boxes': 4.0,\n",
    "    'tablespoon':0.0625,\n",
    "    'tablespoons':0.0625,\n",
    "    'teaspoon': 0.02,\n",
    "    'teaspoons': 0.02,\n",
    "    'pound':3.5,\n",
    "    'pounds':3.5,\n",
    "    'pint':2.0,\n",
    "    'pints':2.0,\n",
    "    'jar':2.0,\n",
    "    'jars':2.0,\n",
    "    'stick':0.5,\n",
    "    'sticks':0.5,\n",
    "    'quart': 4,\n",
    "    'quarts':4,\n",
    "    'ounce':0.125,\n",
    "    'ounces':0.125,\n",
    "    'fluid': 0.125, #fluid ounces\n",
    "    'fluids':0.125,\n",
    "    'units':1.0,\n",
    "}\n",
    "def quantity_norm(ingredient):\n",
    "    if ingredient['measure'] not in cup_equivalent:\n",
    "        print(ingredient)\n",
    "    return float(ingredient['quantity']) * cup_equivalent[ingredient['measure']]"
   ]
  },
  {
   "cell_type": "markdown",
   "metadata": {},
   "source": [
    "1. The rule of thumb for cookie baking is to always keep the amount of fat and sugar used relatively equal. There should be less than 1/4 cup difference between the two.\n",
    "2. The amount of flour used should be about two times the amount of fat. \n",
    "3. If you use baking soda, your recipe must include another acidic ingredient, like sour cream, lemon juice, or buttermilk.\n",
    "4. Number of flavoring ingredients\n",
    "5. How uncommon is an ingredient"
   ]
  },
  {
   "cell_type": "code",
   "execution_count": 62,
   "metadata": {},
   "outputs": [],
   "source": [
    "def total_role(ingredients,role):\n",
    "    total = 0\n",
    "    for ingredient in ingredients:\n",
    "        if ingredient['role'] == role:\n",
    "            total += quantity_norm(ingredient)\n",
    "    return total\n",
    "def fitness(recipe):\n",
    "    ingredients = recipe['ingredients']\n",
    "    total_sugar = total_role(ingredients,'sugar')\n",
    "    total_fat = total_role(ingredients,'fat')\n",
    "    total_flour = total_role(ingredients,'flour')\n",
    "    \n",
    "    fat_sugar_balance = 0 if total_sugar+total_fat == 0 else (1 - abs(total_sugar-total_fat)/(total_sugar+total_fat))       #1\n",
    "    fat_sugar_flour = 0 if total_flour+total_fat == 0 else (1 - abs(total_flour-total_fat * 2)/(total_flour+total_fat * 2)) #2\n",
    "    fitness_score = fat_sugar_balance +  fat_sugar_flour\n",
    "    #print(fitness_score)\n",
    "    #print(total_sugar,total_fat,total_flour,fat_sugar_balance,fat_sugar_flour)\n",
    "    return fitness_score\n"
   ]
  },
  {
   "cell_type": "code",
   "execution_count": 63,
   "metadata": {},
   "outputs": [],
   "source": [
    "#fitness(recipes[2])\n",
    "for recipe in recipes:\n",
    "    fitness(recipe)"
   ]
  },
  {
   "cell_type": "code",
   "execution_count": null,
   "metadata": {},
   "outputs": [],
   "source": [
    "\n",
    "# todo: quantities are missing\n",
    "def crossover(recipe1, recipe2):\n",
    "    ingredients1 = defaultdict(list)\n",
    "    ingredients2 = defaultdict(list)\n",
    "    roles = set()\n",
    "    \n",
    "    for ingredient in recipe1['ingredients']:\n",
    "        roles.add(ingredient['role'])\n",
    "        ingredients1[ingredient['role']].append(ingredient['name'])\n",
    "\n",
    "    for ingredient in recipe2['ingredients']:\n",
    "        roles.add(ingredient['role'])\n",
    "        ingredients2[ingredient['role']].append(ingredient['name'])\n",
    "\n",
    "\n",
    "    new_recipe = {}\n",
    "    new_recipe['title'] = ''.join(random.choice(string.ascii_letters) for i in range((int( (len(recipe1['title']) + len(recipe2['title']))/2))))\n",
    "    new_recipe['ingredients'] = []\n",
    "    for role in roles:  \n",
    "        nr1 = len(ingredients1[role])\n",
    "        nr2 = len(ingredients2[role])\n",
    "        \n",
    "        if nr1 == 1 and nr2 == 1: #choose from one group\n",
    "            r1 = random.randint(0, 1)\n",
    "            if r1 == 0:\n",
    "                new_recipe['ingredients'].append({'name': ingredients1[role][0], 'role' : role})\n",
    "            else :\n",
    "                new_recipe['ingredients'].append({'name': ingredients1[role][0], 'role' : role})\n",
    "\n",
    "        elif nr1 + nr2 == 1:\n",
    "            merged = ingredients1[role] + ingredients2[role]\n",
    "            new_recipe['ingredients'].append({'name': merged[0], 'role' : role})\n",
    "\n",
    "        else: # take more and less half of each\n",
    "            indexes1= np.random.randint(0,nr1 ,math.ceil(nr1/2))\n",
    "            l1 = list(map(ingredients1[role].__getitem__, indexes1))\n",
    "            indexes2= np.random.randint(0,nr2 ,math.ceil(nr1/2))\n",
    "            l2 = list(map(ingredients2[role].__getitem__, indexes2))\n",
    "            s = set(l1 + l2)\n",
    "            for ing in list(s):\n",
    "                new_recipe['ingredients'].append({'name': ing, 'role' : role})\n",
    "    \n",
    "    return new_recipe\n",
    "\n",
    "new_recipe = crossover(recipes[40], recipes[2])\n"
   ]
  },
  {
   "cell_type": "code",
   "execution_count": null,
   "metadata": {},
   "outputs": [],
   "source": []
  },
  {
   "cell_type": "code",
   "execution_count": null,
   "metadata": {},
   "outputs": [
    {
     "name": "stdout",
     "output_type": "stream",
     "text": [
      "{'title': 'KArqlFmKYQqUeDgnZNthQPBTMqwxzwAnF', 'ingredients': [{'name': 'butter', 'role': 'fat'}, {'name': 'all-purpose flour', 'role': 'flour'}, {'name': 'egg yolk', 'role': 'binding agent'}, {'name': 'egg yolks', 'role': 'binding agent'}, {'name': 'white sugar', 'role': 'sugar'}, {'name': 'baking soda', 'role': 'rising agent'}, {'name': 'fruit preserves', 'role': 'flavor texture'}, {'name': 'vanilla extract', 'role': 'flavor texture'}]}\n"
     ]
    },
    {
     "data": {
      "text/plain": [
       "{'title': 'KArqlFmKYQqUeDgnZNthQPBTMqwxzwAnF',\n",
       " 'ingredients': [{'name': 'butter', 'role': 'fat'},\n",
       "  {'name': 'all-purpose flour', 'role': 'flour'},\n",
       "  {'name': 'egg yolk', 'role': 'binding agent'},\n",
       "  {'name': 'egg yolks', 'role': 'binding agent'},\n",
       "  {'name': 'white sugar', 'role': 'sugar'},\n",
       "  {'name': 'baking soda', 'role': 'rising agent'},\n",
       "  {'name': 'ground pistachios', 'role': 'flavor texture'},\n",
       "  {'name': 'quick rise yeast', 'role': 'rising agent'}]}"
      ]
     },
     "execution_count": 10,
     "metadata": {},
     "output_type": "execute_result"
    }
   ],
   "source": [
    "def mutation(recipe):\n",
    "    # remove randomly an element:\n",
    "    r1 = random.randint(0, len(recipe['ingredients'])-1)\n",
    "    recipe['ingredients'].pop(r1)\n",
    "\n",
    "    # add randomly an ingredient:\n",
    "    role, ingredients = random.choice(list(roles.items()))\n",
    "    ingredient = random.choice(tuple(ingredients))\n",
    "    recipe['ingredients'].append({'name' : ingredient, 'role': role})\n",
    "\n",
    "    # todo: change quantities\n",
    "\n",
    "    # replace by other with the same role:\n",
    "    role = recipe['ingredients'][r1]['role']\n",
    "    r2 = random.randint(0, len(roles[role])-1)\n",
    "    recipe['ingredients'][r1]['name'] = list(roles[role])[r2]\n",
    "    return recipe\n",
    "\n",
    "\n",
    "print(new_recipe)\n",
    "mutation(new_recipe)"
   ]
  },
  {
   "cell_type": "code",
   "execution_count": null,
   "metadata": {},
   "outputs": [
    {
     "ename": "AttributeError",
     "evalue": "'dict' object has no attribute 'lstrip'",
     "output_type": "error",
     "traceback": [
      "\u001b[1;31m---------------------------------------------------------------------------\u001b[0m",
      "\u001b[1;31mAttributeError\u001b[0m                            Traceback (most recent call last)",
      "\u001b[1;32m~\\AppData\\Local\\Temp/ipykernel_13216/191559181.py\u001b[0m in \u001b[0;36m<module>\u001b[1;34m\u001b[0m\n\u001b[0;32m     33\u001b[0m             \u001b[1;32mfor\u001b[0m \u001b[0mj\u001b[0m \u001b[1;32min\u001b[0m \u001b[0mrange\u001b[0m\u001b[1;33m(\u001b[0m \u001b[0mi\u001b[0m \u001b[1;33m+\u001b[0m \u001b[1;36m1\u001b[0m\u001b[1;33m,\u001b[0m \u001b[0mlen\u001b[0m\u001b[1;33m(\u001b[0m\u001b[0mp\u001b[0m\u001b[1;33m[\u001b[0m\u001b[1;34m'ingredients'\u001b[0m\u001b[1;33m]\u001b[0m\u001b[1;33m)\u001b[0m\u001b[1;33m)\u001b[0m\u001b[1;33m:\u001b[0m\u001b[1;33m\u001b[0m\u001b[1;33m\u001b[0m\u001b[0m\n\u001b[0;32m     34\u001b[0m \u001b[1;33m\u001b[0m\u001b[0m\n\u001b[1;32m---> 35\u001b[1;33m                 \u001b[0mquantity\u001b[0m\u001b[1;33m,\u001b[0m \u001b[0mingredients\u001b[0m \u001b[1;33m=\u001b[0m \u001b[0mparse_ingredient\u001b[0m\u001b[1;33m(\u001b[0m\u001b[0mp\u001b[0m\u001b[1;33m[\u001b[0m\u001b[1;34m'ingredients'\u001b[0m\u001b[1;33m]\u001b[0m\u001b[1;33m[\u001b[0m\u001b[0mi\u001b[0m\u001b[1;33m]\u001b[0m\u001b[1;33m)\u001b[0m\u001b[1;33m\u001b[0m\u001b[1;33m\u001b[0m\u001b[0m\n\u001b[0m\u001b[0;32m     36\u001b[0m                 \u001b[0mquantity2\u001b[0m\u001b[1;33m,\u001b[0m \u001b[0mingredients2\u001b[0m \u001b[1;33m=\u001b[0m \u001b[0mparse_ingredient\u001b[0m\u001b[1;33m(\u001b[0m\u001b[0mp\u001b[0m\u001b[1;33m[\u001b[0m\u001b[1;34m'ingredients'\u001b[0m\u001b[1;33m]\u001b[0m\u001b[1;33m[\u001b[0m\u001b[0mj\u001b[0m\u001b[1;33m]\u001b[0m\u001b[1;33m)\u001b[0m\u001b[1;33m\u001b[0m\u001b[1;33m\u001b[0m\u001b[0m\n\u001b[0;32m     37\u001b[0m \u001b[1;33m\u001b[0m\u001b[0m\n",
      "\u001b[1;32m~\\AppData\\Local\\Temp/ipykernel_13216/191559181.py\u001b[0m in \u001b[0;36mparse_ingredient\u001b[1;34m(line)\u001b[0m\n\u001b[0;32m      9\u001b[0m \u001b[1;32mdef\u001b[0m \u001b[0mparse_ingredient\u001b[0m\u001b[1;33m(\u001b[0m\u001b[0mline\u001b[0m\u001b[1;33m)\u001b[0m\u001b[1;33m:\u001b[0m\u001b[1;33m\u001b[0m\u001b[1;33m\u001b[0m\u001b[0m\n\u001b[0;32m     10\u001b[0m \u001b[1;33m\u001b[0m\u001b[0m\n\u001b[1;32m---> 11\u001b[1;33m     \u001b[0mline\u001b[0m \u001b[1;33m=\u001b[0m \u001b[0mline\u001b[0m\u001b[1;33m.\u001b[0m\u001b[0mlstrip\u001b[0m\u001b[1;33m(\u001b[0m\u001b[1;33m)\u001b[0m\u001b[1;33m\u001b[0m\u001b[1;33m\u001b[0m\u001b[0m\n\u001b[0m\u001b[0;32m     12\u001b[0m     \u001b[0midx\u001b[0m \u001b[1;33m=\u001b[0m \u001b[1;36m0\u001b[0m\u001b[1;33m\u001b[0m\u001b[1;33m\u001b[0m\u001b[0m\n\u001b[0;32m     13\u001b[0m     \u001b[1;31m# devemos tentar aqui separar as unidades ou simplesmente unidades + elementos são o proprio elemento?\u001b[0m\u001b[1;33m\u001b[0m\u001b[1;33m\u001b[0m\u001b[1;33m\u001b[0m\u001b[0m\n",
      "\u001b[1;31mAttributeError\u001b[0m: 'dict' object has no attribute 'lstrip'"
     ]
    }
   ],
   "source": [
    "\n",
    "recipes = []\n",
    "\n",
    "graph = defaultdict(list)\n",
    "replacements = []\n",
    "\n",
    "ingredient_bag = defaultdict(int)\n",
    "\n",
    "\n",
    "def parse_ingredient(line):\n",
    "\n",
    "    line = line.lstrip()\n",
    "    idx = 0\n",
    "    # devemos tentar aqui separar as unidades ou simplesmente unidades + elementos são o proprio elemento?\n",
    "    #while (line[idx].isdigit() or line[idx] == '/' or line[idx] == ' '):\n",
    "    #    idx+=1\n",
    "    \n",
    "    #quantity = line [0 : idx].lstrip()\n",
    "    \n",
    "    ingredients = line[idx:].lower()\n",
    "\n",
    "    ingredients = ingredients.split(' or ')\n",
    "\n",
    "    for i in range(len(ingredients)):\n",
    "        ingredients[i] = ingredients[i].lstrip()\n",
    "\n",
    "    return quantity, ingredients\n",
    "\n",
    "with open('./data.json') as json_file:\n",
    "    data = json.load(json_file)\n",
    "    for p in data:\n",
    "        recipes.append(p)\n",
    "        for i in range (len(p['ingredients']) - 1):\n",
    "            for j in range( i + 1, len(p['ingredients'])):\n",
    "\n",
    "                quantity, ingredients = parse_ingredient(p['ingredients'][i])\n",
    "                quantity2, ingredients2 = parse_ingredient(p['ingredients'][j]) \n",
    "\n",
    "                if len(ingredients) > 1:\n",
    "                    replacements.append(ingredients)\n",
    "\n",
    "                if len(ingredients2) > 1:\n",
    "                    replacements.append(ingredients2)\n",
    "\n",
    "                for ing in ingredients:\n",
    "                    graph[ing] += ingredients2\n",
    "                    ingredient_bag[ing]+=1\n",
    "\n",
    "                for ing in ingredients2:\n",
    "                    graph[ing] += ingredients\n",
    "                    ingredient_bag[ing]+=1\n",
    "                \n",
    "\n",
    "\n",
    "for k, v in ingredient_bag.items():\n",
    "    print(\"{}->{}\".format(k, v))\n",
    "#for n in graph:\n",
    "#    print(\"{} -> {}\".format(n , len(graph[n])))"
   ]
  },
  {
   "cell_type": "code",
   "execution_count": null,
   "metadata": {},
   "outputs": [],
   "source": [
    "from queue import PriorityQueue\n",
    "\n",
    "def calculate_distance(graph, ingredient):\n",
    "    pq = PriorityQueue()\n",
    "    dist = defaultdict(int)\n",
    "\n",
    "    pq.put((0, ingredient ))\n",
    "    dist[ingredient] = 0\n",
    "    visited = set()\n",
    "\n",
    "    while not pq.empty():\n",
    "        u = pq.get()[1]\n",
    "        for i in graph[u]:\n",
    "            if i in visited:\n",
    "                continue\n",
    "            v = i\n",
    "            visited.add(i)\n",
    "            if v not in dist or dist[v] > dist[u] + 1:\n",
    "                dist[v] = dist[u] + 1\n",
    "                pq.put((dist[v], v))\n",
    "    \n",
    "    return dist\n",
    "\n",
    "\n",
    "\n",
    "def calculate_distances(graph):   \n",
    "    dist = {}\n",
    "    for ingredient in graph:\n",
    "        dist[ingredient] = calculate_distance(graph, ingredient)\n",
    "\n",
    "    return dist\n"
   ]
  },
  {
   "cell_type": "code",
   "execution_count": null,
   "metadata": {},
   "outputs": [],
   "source": [
    "dist = calculate_distances(graph) # act as a cache\n"
   ]
  },
  {
   "cell_type": "code",
   "execution_count": null,
   "metadata": {},
   "outputs": [],
   "source": [
    "#print(dist.keys())"
   ]
  },
  {
   "cell_type": "code",
   "execution_count": null,
   "metadata": {},
   "outputs": [
    {
     "ename": "IndexError",
     "evalue": "list index out of range",
     "output_type": "error",
     "traceback": [
      "\u001b[1;31m---------------------------------------------------------------------------\u001b[0m",
      "\u001b[1;31mIndexError\u001b[0m                                Traceback (most recent call last)",
      "\u001b[1;32m~\\AppData\\Local\\Temp/ipykernel_13216/711938865.py\u001b[0m in \u001b[0;36m<module>\u001b[1;34m\u001b[0m\n\u001b[0;32m     16\u001b[0m \u001b[1;33m\u001b[0m\u001b[0m\n\u001b[0;32m     17\u001b[0m \u001b[1;33m\u001b[0m\u001b[0m\n\u001b[1;32m---> 18\u001b[1;33m \u001b[0mprint\u001b[0m\u001b[1;33m(\u001b[0m\u001b[0mrecipes\u001b[0m\u001b[1;33m[\u001b[0m\u001b[1;36m4\u001b[0m\u001b[1;33m]\u001b[0m\u001b[1;33m)\u001b[0m\u001b[1;33m\u001b[0m\u001b[1;33m\u001b[0m\u001b[0m\n\u001b[0m\u001b[0;32m     19\u001b[0m \u001b[0mprint\u001b[0m\u001b[1;33m(\u001b[0m\u001b[0mfitness\u001b[0m\u001b[1;33m(\u001b[0m\u001b[0mrecipes\u001b[0m\u001b[1;33m[\u001b[0m\u001b[1;36m4\u001b[0m\u001b[1;33m]\u001b[0m\u001b[1;33m)\u001b[0m\u001b[1;33m)\u001b[0m\u001b[1;33m\u001b[0m\u001b[1;33m\u001b[0m\u001b[0m\n\u001b[0;32m     20\u001b[0m \u001b[0mprint\u001b[0m\u001b[1;33m(\u001b[0m\u001b[0mfitness\u001b[0m\u001b[1;33m(\u001b[0m\u001b[0mrecipes\u001b[0m\u001b[1;33m[\u001b[0m\u001b[1;36m7\u001b[0m\u001b[1;33m]\u001b[0m\u001b[1;33m)\u001b[0m\u001b[1;33m)\u001b[0m\u001b[1;33m\u001b[0m\u001b[1;33m\u001b[0m\u001b[0m\n",
      "\u001b[1;31mIndexError\u001b[0m: list index out of range"
     ]
    }
   ],
   "source": [
    "\n",
    "def fitness(individual):\n",
    "    counter = 0\n",
    "    # the higher the worst\n",
    "    pq = PriorityQueue()\n",
    "    visited = set()\n",
    "    for i in range(len(individual['ingredients']) - 1):\n",
    "        for j in range(i + 1 , len(individual['ingredients'])):\n",
    "            if i in visited and j in visited:\n",
    "                continue\n",
    "            pq.put(dist[individual['ingredients'][i]][individual['ingredients'][j]])\n",
    "\n",
    "    while not pq.empty():\n",
    "        u = pq.get()\n",
    "        counter += u\n",
    "    return counter\n",
    "\n",
    "        \n",
    "print(recipes[4])\n",
    "print(fitness(recipes[4])) \n",
    "print(fitness(recipes[7]))\n"
   ]
  }
 ],
 "metadata": {
  "interpreter": {
   "hash": "3352614b04f6a771ec3a392566a3763a34cdc96a177f762027aa589f02ec5f67"
  },
  "kernelspec": {
   "display_name": "Python 3.8.2 32-bit",
   "name": "python3"
  },
  "language_info": {
   "codemirror_mode": {
    "name": "ipython",
    "version": 3
   },
   "file_extension": ".py",
   "mimetype": "text/x-python",
   "name": "python",
   "nbconvert_exporter": "python",
   "pygments_lexer": "ipython3",
   "version": "3.8.2"
  },
  "orig_nbformat": 4
 },
 "nbformat": 4,
 "nbformat_minor": 2
}
