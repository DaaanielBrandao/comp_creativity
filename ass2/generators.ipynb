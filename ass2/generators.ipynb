{
 "cells": [
  {
   "cell_type": "code",
   "execution_count": 122,
   "metadata": {},
   "outputs": [],
   "source": [
    "from difflib import SequenceMatcher\n",
    "import jellyfish\n",
    "import names\n",
    "import random\n",
    "import json\n",
    "\n",
    "\n",
    "def similar(a, b):\n",
    "    return jellyfish.jaro_distance(a,b)"
   ]
  },
  {
   "cell_type": "code",
   "execution_count": 123,
   "metadata": {},
   "outputs": [],
   "source": [
    "def author_name(first_theme,last_theme):\n",
    "    first_name = ''\n",
    "    last_name = ''\n",
    "    max = 0\n",
    "    for i in range(20000):\n",
    "        new_name = names.get_first_name()\n",
    "        if(similar(new_name,first_theme) > max):\n",
    "            max = similar(new_name,first_theme)\n",
    "            first_name = new_name\n",
    "    max = 0\n",
    "    for i in range(5000):\n",
    "        new_name = names.get_last_name()\n",
    "        if(similar(new_name,last_theme) > max):\n",
    "            max = similar(new_name,last_theme)\n",
    "            last_name = new_name\n",
    "    \n",
    "    \n",
    "    return first_name + ' ' + last_name"
   ]
  },
  {
   "cell_type": "code",
   "execution_count": 136,
   "metadata": {},
   "outputs": [],
   "source": [
    "author = author_name('animal','depression')"
   ]
  },
  {
   "cell_type": "code",
   "execution_count": 137,
   "metadata": {},
   "outputs": [
    {
     "name": "stdout",
     "output_type": "stream",
     "text": [
      "Danial Anderson\n"
     ]
    }
   ],
   "source": [
    "print(author)"
   ]
  },
  {
   "cell_type": "code",
   "execution_count": 131,
   "metadata": {},
   "outputs": [],
   "source": [
    "def generate_bio(author_name, first_theme, second_theme, last_theme):\n",
    "    \n",
    "    father_name = names.get_first_name(gender='male') + ' ' + author_name.split()[1]\n",
    "    lovers_name = names.get_full_name()\n",
    "    with open('countries.json',encoding=\"utf8\") as f:\n",
    "        countries = json.load(f)\n",
    "    with open('negative_adjectives.json',encoding=\"utf8\") as f:\n",
    "        negative_adjectives = json.load(f)\n",
    "    birth_day = random.randint(1,28)\n",
    "    birth_month = random.choice(['January', 'February', 'March', 'April', 'May', 'June', 'July', 'August', 'September', 'October', 'November', 'December'])\n",
    "    birth_year = random.randint(1500,1800)\n",
    "    first_change_year = birth_year +  random.randint(20,30)\n",
    "    second_change_year = first_change_year +  random.randint(5,30)\n",
    "    death_year = second_change_year + random.randint(5,30)\n",
    "    first_country = random.choice(countries)[\"name\"]\n",
    "    second_country = random.choice(countries)[\"name\"]\n",
    "    reason_for_exile = random.choice(['political commentary','treason','vandalizing','identity theft'])\n",
    "    plague_name = random.choice(negative_adjectives) + ' ' + random.choice(['Death','Epidemic','Plague','Affliction','Outbreak','Scourge'])\n",
    "    reason_of_death = random.choice(['in a car accident','of heart disease','in a storm','of scurvy','of pneumonia','of starvation'])\n",
    "\n",
    "    bio = father_name + ' ' + birth_month + ' ' + str(birth_year) + ' ' + str(first_change_year) + ' ' +  str(second_change_year) + ' ' + str(death_year) + ' ' + first_country + ' ' + second_country\n",
    "    biography = author_name + ' regarded as one of ' + first_country +'\\'s best poets is well known for their groundbreaking work on ' +\\\n",
    "        first_theme + ', ' + second_theme + ', and ' + last_theme + '. They were born in the capital on ' + str(birth_day) + ' ' + birth_month + ' '+\\\n",
    "        str(birth_year)+ '. Their father, ' + father_name + ', was the country\\'s governor, considered by many the most ruthless leader in centuries. ' +\\\n",
    "        author_name + ' grew mostly isolated and spent the days reading and writing poetry in the family library. Their first poems dealt mainly with ' +\\\n",
    "        first_theme + ' but they were never published during their lifetime. After graduating they were exiled from the country by their father for ' +\\\n",
    "        reason_for_exile + ' in ' + str(first_change_year) + '. They moved to ' + second_country + ' and quickly began their new life as a poet. '+\\\n",
    "        'In the same year, they met and married the love of their life, ' + lovers_name + '. At this convoluted time, they created poems about '+\\\n",
    "        second_theme + ' that ended up being their most appraised and influential work. In ' + str(second_change_year) + ' the ' + plague_name + ' devoured the nation killing more than half the population, including' +\\\n",
    "        ' their spouse. After hearing the news, their father decided to give them a pardon, but ' + author_name + ' refused to go back and continued their poetry life. Their latest, more mature work' +\\\n",
    "        ' was more oriented to ' + last_theme + '. After their father\\'s death, they traveled back to ' + first_country + ' in ' + str(death_year) +', but in the middle of the trip, they died ' + reason_of_death + '.'\n",
    "    print(bio)\n",
    "    print(biography)"
   ]
  },
  {
   "cell_type": "code",
   "execution_count": 135,
   "metadata": {},
   "outputs": [
    {
     "name": "stdout",
     "output_type": "stream",
     "text": [
      "Eugene Anderson April 1616 1639 1668 1694 Germany Faroe Islands\n",
      "Laure Anderson regarded as one of Germany's best poets is well known for their groundbreaking work on Nature, Time, and Depression. They were born in the capital on 26 April 1616. Their father, Eugene Anderson, was the country's governor, considered by many the most ruthless leader in centuries. Laure Anderson grew mostly isolated and spent the days reading and writing poetry in the family library. Their first poems dealt mainly with Nature but were only published in the last years of their life. After graduating they were exiled from the country by their father for political commentary in 1639. They moved to Faroe Islands and quickly began their new life as a poet. In the same year, they met and married the love of their life, Cleopatra Johnson. At this convoluted time, they created poems about Time that ended up being their most appraised and influential work. In 1668 the Bump Affliction devoured the nation killing more than half the population, including their spouse. After hearing the news, their father decided to give them a pardon, but Laure Anderson refused to go back and continued their poetry life. Their latest, more mature work was more oriented to Depression. After their father's death, they traveled back to Germany in 1694, but in the middle of the trip, they died of a heart disease.\n"
     ]
    }
   ],
   "source": [
    "generate_bio(author,'Nature','Time','Depression')"
   ]
  },
  {
   "cell_type": "markdown",
   "metadata": {},
   "source": [
    "https://hackmd.io/@wQdK-9GPS06sZaAMvTwKVA/ryL1TT8wY/edit"
   ]
  }
 ],
 "metadata": {
  "interpreter": {
   "hash": "3352614b04f6a771ec3a392566a3763a34cdc96a177f762027aa589f02ec5f67"
  },
  "kernelspec": {
   "display_name": "Python 3.8.2 32-bit",
   "language": "python",
   "name": "python3"
  },
  "language_info": {
   "codemirror_mode": {
    "name": "ipython",
    "version": 3
   },
   "file_extension": ".py",
   "mimetype": "text/x-python",
   "name": "python",
   "nbconvert_exporter": "python",
   "pygments_lexer": "ipython3",
   "version": "3.8.2"
  },
  "orig_nbformat": 4
 },
 "nbformat": 4,
 "nbformat_minor": 2
}
