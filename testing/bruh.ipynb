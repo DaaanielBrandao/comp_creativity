{
 "cells": [
  {
   "cell_type": "code",
   "execution_count": 562,
   "metadata": {},
   "outputs": [],
   "source": [
    "environment = [] # array of models that will interact"
   ]
  },
  {
   "cell_type": "code",
   "execution_count": 561,
   "metadata": {},
   "outputs": [],
   "source": [
    "def model_wrapper(model):\n",
    "    return {\n",
    "        'model':model,\n",
    "        'current_tokens': 10\n",
    "    }"
   ]
  },
  {
   "cell_type": "code",
   "execution_count": 563,
   "metadata": {},
   "outputs": [
    {
     "name": "stdout",
     "output_type": "stream",
     "text": [
      "[{'model': 0, 'current_tokens': 10}, {'model': 1, 'current_tokens': 10}, {'model': 2, 'current_tokens': 10}, {'model': 3, 'current_tokens': 10}, {'model': 4, 'current_tokens': 10}]\n"
     ]
    }
   ],
   "source": [
    "for i in range(5):\n",
    "    environment.append(model_wrapper(i))\n",
    "\n",
    "print(environment)"
   ]
  },
  {
   "cell_type": "code",
   "execution_count": 299,
   "metadata": {},
   "outputs": [],
   "source": [
    "'''\n",
    "    the agent with the highest number of tokens is the one chosen\n",
    "'''\n",
    "def max_strategy(environment, price_to_pay):\n",
    "    max_index = 0\n",
    "\n",
    "    for i in range(1 ,len(environment)):\n",
    "        val = environment[i]['current_tokens']\n",
    "        if val > environment[max_index]['current_tokens']:\n",
    "            max_index = i\n",
    "\n",
    "    assert price_to_pay <= environment[max_index]['current_tokens']\n",
    "    environment_output = environment.copy()\n",
    "    environment_output[max_index]['current_tokens']-= price_to_pay\n",
    "    print(\"choosen\" , max_index)\n",
    "    return environment_output"
   ]
  },
  {
   "cell_type": "code",
   "execution_count": 300,
   "metadata": {},
   "outputs": [],
   "source": [
    "'''\n",
    "    Instead of having a price to pay, it will win the one that bids the most\n",
    "    The one that has more tokens has the most likelihood to win the current round\n",
    "'''\n",
    "def auction_max_random_strategy(environment, price_to_pay):\n",
    "    max_index = 0\n",
    "    max_bid = 0\n",
    "\n",
    "    for i in range(len(environment)):\n",
    "        current_tokens = environment[i]['current_tokens']\n",
    "        # random part\n",
    "        to_bid = random.randint(0, current_tokens + 1)\n",
    "        # max part\n",
    "        if max_bid <= to_bid:\n",
    "            max_bid = to_bid\n",
    "            max_index = i\n",
    "\n",
    "    environment_output = environment.copy()\n",
    "    environment_output[max_index]['current_tokens']-= max_bid\n",
    "\n",
    "    print(\"o mano \", max_index, \" pagou \", max_bid)\n",
    "\n",
    "    return environment_output\n",
    "\n",
    "\n"
   ]
  },
  {
   "cell_type": "code",
   "execution_count": 301,
   "metadata": {},
   "outputs": [],
   "source": [
    "import random\n",
    "import numpy\n",
    "\n",
    "'''\n",
    "    chooses a random agent to continue the play\n",
    "'''\n",
    "def random_strategy(environment, price_to_pay):\n",
    "    print(random.choice(environment))\n",
    "    environment_output = environment.copy()\n",
    "    environment_output[numpy.random.randint(0, len(environment) - 1)]['current_tokens'] -= price_to_pay\n",
    "\n",
    "    return environment_output\n",
    "\n"
   ]
  },
  {
   "cell_type": "code",
   "execution_count": 308,
   "metadata": {},
   "outputs": [],
   "source": [
    "'''\n",
    "    wins the auction the first one to bid\n",
    "    It starts with a high price to pay and that number is reduced\n",
    "    The probability to accept a certain price is going to be dependent on the current number of tokens\n",
    "'''\n",
    "def dutch_auction(environment, price_to_pay):\n",
    "    accepted_index = -1\n",
    "    reducing_price = 1\n",
    "\n",
    "    current_price_to_pay = price_to_pay\n",
    "\n",
    "    while accepted_index == -1:\n",
    "        print(current_price_to_pay)\n",
    "\n",
    "        for i in range(len(environment)):\n",
    "            val = environment[i]['current_tokens']\n",
    "            if current_price_to_pay > val:\n",
    "                continue\n",
    "\n",
    "            percentage_gotten = (val - current_price_to_pay)/val \n",
    "\n",
    "            threshold = random.uniform(0, 1)\n",
    "\n",
    "            #print(percentage_gotten, threshold)\n",
    "\n",
    "            # this condition is always met\n",
    "            if percentage_gotten >= threshold:\n",
    "                accepted_index = i\n",
    "                break\n",
    "\n",
    "        current_price_to_pay = max(current_price_to_pay - reducing_price, 0)\n",
    "\n",
    "    \n",
    "    environment_output = environment.copy()\n",
    "    if accepted_index == -1:\n",
    "        accepted_index = random.randint(0, len(environment)- 1)\n",
    "    \n",
    "    environment_output[accepted_index]['current_tokens'] -= current_price_to_pay\n",
    "\n",
    "    #print(\"aceitou no dutch o \", accepted_index)\n",
    "    return environment_output"
   ]
  },
  {
   "cell_type": "code",
   "execution_count": 303,
   "metadata": {},
   "outputs": [],
   "source": [
    "STATE_VALUE = 5"
   ]
  },
  {
   "cell_type": "code",
   "execution_count": 555,
   "metadata": {},
   "outputs": [],
   "source": [
    "'''\n",
    "    changes the environment state\n",
    "    it should guarantee that there is always token available to bid\n",
    "'''\n",
    "def advance_state(environment, extra = 1):\n",
    "\n",
    "    environment_output = environment.copy()\n",
    "    for i in range(len(environment)):\n",
    "        environment_output[i]['current_tokens']+= STATE_VALUE * extra\n",
    "\n",
    "    return environment_output\n",
    "    "
   ]
  },
  {
   "cell_type": "code",
   "execution_count": 305,
   "metadata": {},
   "outputs": [],
   "source": [
    "def choose_agent(environment, strategy_callback):\n",
    "    price_to_pay = STATE_VALUE\n",
    "    new_environment = strategy_callback(environment, price_to_pay)\n",
    "    return new_environment\n",
    "    "
   ]
  },
  {
   "cell_type": "code",
   "execution_count": null,
   "metadata": {},
   "outputs": [],
   "source": [
    "NUMBER_OF_ROUNDS = 10\n",
    "\n",
    "print(environment)\n",
    "for i in range(NUMBER_OF_ROUNDS):\n",
    "    environment = choose_agent(environment, dutch_auction)\n",
    "    environment = advance_state(environment)\n",
    "    "
   ]
  },
  {
   "cell_type": "code",
   "execution_count": 307,
   "metadata": {},
   "outputs": [
    {
     "name": "stdout",
     "output_type": "stream",
     "text": [
      "{'model': 0, 'current_tokens': 32}\n",
      "{'model': 1, 'current_tokens': 52}\n",
      "{'model': 2, 'current_tokens': 56}\n",
      "{'model': 3, 'current_tokens': 60}\n",
      "{'model': 4, 'current_tokens': 60}\n"
     ]
    }
   ],
   "source": [
    "for x in environment:\n",
    "    print(x)"
   ]
  },
  {
   "cell_type": "markdown",
   "metadata": {},
   "source": [
    "# Different stuff\n"
   ]
  },
  {
   "cell_type": "code",
   "execution_count": 552,
   "metadata": {},
   "outputs": [],
   "source": [
    "from collections import defaultdict\n",
    "'''\n",
    "    the auction is going to be done for the next five products\n",
    "    The price that each agent is going to give will be:\n",
    "        * For one isolated element randint(0, current_price_to_pay / k)\n",
    "        * For k1 consecutive elements randint(0, current_price_to_pay/k) * K1 * float_random(1, 1.5) => valoriza\n",
    "        * For an arbirtrary sequence calculate separetly the value for those consecutive sequence and then sum them\n",
    "    Should this be the vcg?\n",
    "'''\n",
    "K = 5\n",
    "\n",
    "def create_values_for_agent(agent, price_to_pay):\n",
    "\n",
    "    # notes together values\n",
    "    note_together_values = defaultdict()\n",
    "    one_note = int(price_to_pay/K + 1)\n",
    "    note_together_values[1] = one_note\n",
    "    for i in range(2, K + 1):\n",
    "        note_together_values[i] = one_note * i * random.uniform(1,1.1)\n",
    "\n",
    "    return note_together_values\n",
    "\n",
    "\n",
    "\n",
    "'''\n",
    "    gets the option that is more lucrative when everything is sold\n",
    "'''\n",
    "def get_best_option_non_seq(environment_wrapper, size, current_value, result):\n",
    "\n",
    "    if size == 0:\n",
    "        return current_value, result\n",
    "\n",
    "    \n",
    "    value = - 1\n",
    "    current_one = []\n",
    "    for agent in environment_wrapper:\n",
    "        for element_size, option in agent['valorization'].items():\n",
    "            if size - element_size >= 0:\n",
    "                value, one = get_best_option_non_seq(environment_wrapper, size - element_size, current_value + option, \\\n",
    "                    result + [{'model': agent['model'], 'value': option}])\n",
    "                \n",
    "                if value > current_value:\n",
    "                    current_one = one\n",
    "                    current = value\n",
    "\n",
    "    \n",
    "    return value, current_one\n",
    "            \n",
    "\n",
    "'''\n",
    "    attribute the next k elements to the agents according to the one that maximizes the value\n",
    "'''\n",
    "def auction_next_k(environment, price_to_pay):\n",
    "    import copy\n",
    "    environment_output = copy.deepcopy(environment)\n",
    "\n",
    "    for agent in environment:\n",
    "        vals = create_values_for_agent(agent, price_to_pay)\n",
    "        agent['valorization'] = vals # prices they are willing to pay for N products\n",
    "\n",
    "    print(\"here\", environment_output)\n",
    "\n",
    "    \n",
    "    _, result = get_best_option_non_seq(environment, K, 0, [])\n",
    "\n",
    "    for element in result:\n",
    "        for agent in environment_output:\n",
    "            if agent['model'] == element['model']:\n",
    "                agent['current_tokens'] -= element['value']\n",
    "    \n",
    "\n",
    "    return environment_output\n",
    "    #for agent in environment:\n",
    "    #    print(agent)"
   ]
  },
  {
   "cell_type": "code",
   "execution_count": 557,
   "metadata": {},
   "outputs": [
    {
     "name": "stdout",
     "output_type": "stream",
     "text": [
      "here [{'model': 0, 'current_tokens': 32, 'valorization': defaultdict(None, {1: 2, 2: 4.159177549566412, 3: 6.442255982740718, 4: 8.49133188157037, 5: 10.798710456928827})}, {'model': 1, 'current_tokens': 52, 'valorization': defaultdict(None, {1: 2, 2: 4.214785714389888, 3: 6.154601198563395, 4: 8.768398928401288, 5: 10.658256357149527})}, {'model': 2, 'current_tokens': 56, 'valorization': defaultdict(None, {1: 2, 2: 4.112820582536904, 3: 6.579633257441216, 4: 8.311780539887712, 5: 10.853696562017792})}, {'model': 3, 'current_tokens': 60, 'valorization': defaultdict(None, {1: 2, 2: 4.030841730687423, 3: 6.265411833181592, 4: 8.543971204882169, 5: 10.004869052044448})}, {'model': 4, 'current_tokens': -14.360658468719878, 'valorization': defaultdict(None, {1: 2, 2: 4.034104165365007, 3: 6.545070608843026, 4: 8.161153984872774, 5: 10.387056237877225})}]\n",
      "here [{'model': 0, 'current_tokens': 57, 'valorization': defaultdict(None, {1: 2, 2: 4.159177549566412, 3: 6.442255982740718, 4: 8.49133188157037, 5: 10.798710456928827})}, {'model': 1, 'current_tokens': 77, 'valorization': defaultdict(None, {1: 2, 2: 4.214785714389888, 3: 6.154601198563395, 4: 8.768398928401288, 5: 10.658256357149527})}, {'model': 2, 'current_tokens': 81, 'valorization': defaultdict(None, {1: 2, 2: 4.112820582536904, 3: 6.579633257441216, 4: 8.311780539887712, 5: 10.853696562017792})}, {'model': 3, 'current_tokens': 85, 'valorization': defaultdict(None, {1: 2, 2: 4.030841730687423, 3: 6.265411833181592, 4: 8.543971204882169, 5: 10.004869052044448})}, {'model': 4, 'current_tokens': -0.2763908861825968, 'valorization': defaultdict(None, {1: 2, 2: 4.034104165365007, 3: 6.545070608843026, 4: 8.161153984872774, 5: 10.387056237877225})}]\n"
     ]
    }
   ],
   "source": [
    "NUMBER_OF_ROUNDS = 10\n",
    "\n",
    "for i in range(int(NUMBER_OF_ROUNDS/K)):\n",
    "    environment = auction_next_k(environment, STATE_VALUE)\n",
    "    environment = advance_state(environment, K)"
   ]
  },
  {
   "cell_type": "markdown",
   "metadata": {},
   "source": [
    "# Another approach\n"
   ]
  },
  {
   "cell_type": "code",
   "execution_count": 572,
   "metadata": {},
   "outputs": [],
   "source": [
    "def similarity_measure(chord1, chord2):\n",
    "    return random.randint(1,10)"
   ]
  },
  {
   "cell_type": "code",
   "execution_count": 560,
   "metadata": {},
   "outputs": [],
   "source": [
    "def next_note_predict(model):\n",
    "    return 1"
   ]
  },
  {
   "cell_type": "code",
   "execution_count": 631,
   "metadata": {},
   "outputs": [],
   "source": [
    "'''\n",
    "    defines a rank of preferences for each agent in relation to other\n",
    "'''\n",
    "def preferences(environment):\n",
    "    \n",
    "    preferences = defaultdict(defaultdict)\n",
    "    for agent in environment:\n",
    "        for other_agent in environment:\n",
    "            if other_agent != agent:\n",
    "                preferences[agent['model']][other_agent['model']] = similarity_measure(next_note_predict(agent), next_note_predict(other_agent))\n",
    "\n",
    "    return preferences\n",
    "\n",
    "preferences = preferences(environment)"
   ]
  },
  {
   "cell_type": "code",
   "execution_count": 632,
   "metadata": {},
   "outputs": [
    {
     "data": {
      "text/plain": [
       "(5,\n",
       " defaultdict(collections.defaultdict,\n",
       "             {0: defaultdict(None, {1: 1, 2: 10, 3: 4, 4: 7}),\n",
       "              1: defaultdict(None, {0: 9, 2: 9, 3: 7, 4: 10}),\n",
       "              2: defaultdict(None, {0: 7, 1: 5, 3: 7, 4: 4}),\n",
       "              3: defaultdict(None, {0: 2, 1: 5, 2: 2, 4: 8}),\n",
       "              4: defaultdict(None, {0: 4, 1: 3, 2: 3, 3: 7})}))"
      ]
     },
     "execution_count": 632,
     "metadata": {},
     "output_type": "execute_result"
    }
   ],
   "source": [
    "len(preferences), preferences"
   ]
  },
  {
   "cell_type": "code",
   "execution_count": 670,
   "metadata": {},
   "outputs": [
    {
     "name": "stdout",
     "output_type": "stream",
     "text": [
      "3 4\n",
      "competing  3 4\n",
      "competing  1 4\n",
      "competing  0 4\n",
      "competing  2 4\n",
      "winner 4\n"
     ]
    }
   ],
   "source": [
    "def vote_counters(c1, c2, preferences):\n",
    "\n",
    "    c1_votes = 0\n",
    "    c2_votes = 0\n",
    "\n",
    "    for candidate, preference in preferences.items():\n",
    "        if candidate != c1 and candidate != c2:\n",
    "            if preference[c1] > preference[c2]:\n",
    "                c1_votes+=1\n",
    "            elif preference[c1] == preference[c2]:\n",
    "                c1_votes +=1\n",
    "                c2_votes += 1\n",
    "            else:\n",
    "                c2_votes +=1\n",
    "\n",
    "    return c1_votes, c2_votes\n",
    "\n",
    "\n",
    "\n",
    "def sequential_voting(preferences):\n",
    "    # the number of voting competition is going to be the number of agents - 1 = nr of preferences\n",
    "    # choose two agents to compete\n",
    "    # the agents that compete do not vote\n",
    "    assert len(preferences) >= 2\n",
    "\n",
    "    c1 = random.randint(0, len(preferences) - 1)\n",
    "    c2 = random.randint(0 , len(preferences) - 1)\n",
    "\n",
    "    while c1 == c2:\n",
    "        c2 = random.randint(0 , len(preferences) - 1)\n",
    "\n",
    "    print(c1, c2)\n",
    "\n",
    "    out_of_tournament = set()\n",
    "\n",
    "    while len(out_of_tournament) != len(preferences) - 1:\n",
    "        print(\"competing \" , c1, c2)\n",
    "        c1_votes, c2_votes = vote_counters(c1, c2, preferences)\n",
    "        if c1_votes > c2_votes:\n",
    "            out_of_tournament.add(c2)\n",
    "            winner = c1\n",
    "            if len(out_of_tournament) == len(preferences) - 1:\n",
    "                break\n",
    "            c2 = random.randint(0 , len(preferences) - 1)\n",
    "            while c1 == c2 or c2 in out_of_tournament:\n",
    "                c2 = random.randint(0 , len(preferences) - 1)\n",
    "        else:\n",
    "            out_of_tournament.add(c1)\n",
    "            winner = c2\n",
    "            if len(out_of_tournament) == len(preferences) - 1:\n",
    "                break\n",
    "            c1 = random.randint(0 , len(preferences) - 1)\n",
    "            while c1 == c2 or c1 in out_of_tournament:\n",
    "                c1 = random.randint(0 , len(preferences) - 1)\n",
    "\n",
    "    \n",
    "    return winner\n",
    "\n",
    "\n",
    "\n",
    "print(\"winner\", sequential_voting(preferences))\n"
   ]
  },
  {
   "cell_type": "code",
   "execution_count": 677,
   "metadata": {},
   "outputs": [
    {
     "data": {
      "text/plain": [
       "defaultdict(None, {1: 2, 3: 5, 4: 5, 2: 3, 0: 4})"
      ]
     },
     "execution_count": 677,
     "metadata": {},
     "output_type": "execute_result"
    }
   ],
   "source": [
    "#  kinda bourda count\n",
    "def count_weird(preferences):\n",
    "    # baseado na percentagem que cada um mete em que lugar\n",
    "\n",
    "    # 2 > 4 > 3 > 1  \n",
    "    # 4 > 2 > 0 > 3\n",
    "    # 3 > 1 > 0 > 4\n",
    "    # 4 > 1 > 2 > 0\n",
    "    # 3 > 0 > 1 > 2\n",
    "    \n",
    "    # pontuation => [k - 1 => 1 lugar .... 0 => 4 lugar]\n",
    "    # 2 => 1 lugar, 2 lugar, 3 lugar, 4 lugar => k - 1 + k - 2 + k - 3 + 0\n",
    "    # 1 => 4 lugar, 2 lugar, 2 lugar, 4 lugar\n",
    "    # 0 => 3 lugar, 3 lugar, 3 lugar, 2 lugar\n",
    "    # 3 => 1 lugar, 1 lugar, 3 lugar, 4 lugar\n",
    "    # 4 => 2 lugar, 1 lugar, 4 lugar, 1 lugar\n",
    "\n",
    "    #  choose o que da mais\n",
    "\n",
    "    placement_counter = defaultdict()\n",
    "    # pontuation = len(preferences ) - position - 1\n",
    "\n",
    "\n",
    "    for agent, preference in preferences.items():\n",
    "        # sorted based on preferences\n",
    "        current_preference = {k: v for k, v in sorted(preference.items(), key=lambda item: item[1])}\n",
    "\n",
    "        pontuation_to_give = len(preference) - 1\n",
    "        index = 1\n",
    "        for position in current_preference.keys():\n",
    "            placement_counter[position] = pontuation_to_give - index\n",
    "            index-=1\n",
    "    \n",
    "    return placement_counter\n",
    "\n",
    "# key => model, value => pontuation\n",
    "count_weird(preferences)"
   ]
  }
 ],
 "metadata": {
  "interpreter": {
   "hash": "31f2aee4e71d21fbe5cf8b01ff0e069b9275f58929596ceb00d14d90e3e16cd6"
  },
  "kernelspec": {
   "display_name": "Python 3.9.2 64-bit",
   "language": "python",
   "name": "python3"
  },
  "language_info": {
   "codemirror_mode": {
    "name": "ipython",
    "version": 3
   },
   "file_extension": ".py",
   "mimetype": "text/x-python",
   "name": "python",
   "nbconvert_exporter": "python",
   "pygments_lexer": "ipython3",
   "version": "3.6.9"
  },
  "orig_nbformat": 4
 },
 "nbformat": 4,
 "nbformat_minor": 2
}
